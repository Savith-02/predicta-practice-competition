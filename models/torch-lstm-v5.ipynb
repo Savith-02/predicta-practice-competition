{
 "cells": [
  {
   "cell_type": "code",
   "execution_count": 1,
   "metadata": {},
   "outputs": [],
   "source": [
    "import pandas as pd\n",
    "import numpy as np\n",
    "import matplotlib.pyplot as plt"
   ]
  },
  {
   "cell_type": "code",
   "execution_count": 2,
   "metadata": {},
   "outputs": [],
   "source": [
    "df = pd.read_csv('./../csv/quntity_sum_sorted_by_date_complete.csv')"
   ]
  },
  {
   "cell_type": "code",
   "execution_count": 3,
   "metadata": {},
   "outputs": [],
   "source": [
    "df['date'] = df['transaction_date'].rank(\n",
    "    method='dense').astype(int)\n",
    "df['day_number'] = pd.to_datetime(df['transaction_date']).dt.day"
   ]
  },
  {
   "cell_type": "code",
   "execution_count": 4,
   "metadata": {},
   "outputs": [
    {
     "data": {
      "text/html": [
       "<div>\n",
       "<style scoped>\n",
       "    .dataframe tbody tr th:only-of-type {\n",
       "        vertical-align: middle;\n",
       "    }\n",
       "\n",
       "    .dataframe tbody tr th {\n",
       "        vertical-align: top;\n",
       "    }\n",
       "\n",
       "    .dataframe thead th {\n",
       "        text-align: right;\n",
       "    }\n",
       "</style>\n",
       "<table border=\"1\" class=\"dataframe\">\n",
       "  <thead>\n",
       "    <tr style=\"text-align: right;\">\n",
       "      <th></th>\n",
       "      <th>transaction_date</th>\n",
       "      <th>store_id</th>\n",
       "      <th>product_id</th>\n",
       "      <th>transaction_qty</th>\n",
       "      <th>day_of_week</th>\n",
       "      <th>date</th>\n",
       "      <th>day_number</th>\n",
       "    </tr>\n",
       "  </thead>\n",
       "  <tbody>\n",
       "    <tr>\n",
       "      <th>39667</th>\n",
       "      <td>2024-05-31</td>\n",
       "      <td>3</td>\n",
       "      <td>83</td>\n",
       "      <td>0.0</td>\n",
       "      <td>4</td>\n",
       "      <td>152</td>\n",
       "      <td>31</td>\n",
       "    </tr>\n",
       "    <tr>\n",
       "      <th>39668</th>\n",
       "      <td>2024-05-31</td>\n",
       "      <td>3</td>\n",
       "      <td>84</td>\n",
       "      <td>3.0</td>\n",
       "      <td>4</td>\n",
       "      <td>152</td>\n",
       "      <td>31</td>\n",
       "    </tr>\n",
       "    <tr>\n",
       "      <th>39669</th>\n",
       "      <td>2024-05-31</td>\n",
       "      <td>3</td>\n",
       "      <td>85</td>\n",
       "      <td>0.0</td>\n",
       "      <td>4</td>\n",
       "      <td>152</td>\n",
       "      <td>31</td>\n",
       "    </tr>\n",
       "    <tr>\n",
       "      <th>39670</th>\n",
       "      <td>2024-05-31</td>\n",
       "      <td>3</td>\n",
       "      <td>86</td>\n",
       "      <td>0.0</td>\n",
       "      <td>4</td>\n",
       "      <td>152</td>\n",
       "      <td>31</td>\n",
       "    </tr>\n",
       "    <tr>\n",
       "      <th>39671</th>\n",
       "      <td>2024-05-31</td>\n",
       "      <td>3</td>\n",
       "      <td>87</td>\n",
       "      <td>5.0</td>\n",
       "      <td>4</td>\n",
       "      <td>152</td>\n",
       "      <td>31</td>\n",
       "    </tr>\n",
       "  </tbody>\n",
       "</table>\n",
       "</div>"
      ],
      "text/plain": [
       "      transaction_date  store_id  product_id  transaction_qty  day_of_week  \\\n",
       "39667       2024-05-31         3          83              0.0            4   \n",
       "39668       2024-05-31         3          84              3.0            4   \n",
       "39669       2024-05-31         3          85              0.0            4   \n",
       "39670       2024-05-31         3          86              0.0            4   \n",
       "39671       2024-05-31         3          87              5.0            4   \n",
       "\n",
       "       date  day_number  \n",
       "39667   152          31  \n",
       "39668   152          31  \n",
       "39669   152          31  \n",
       "39670   152          31  \n",
       "39671   152          31  "
      ]
     },
     "execution_count": 4,
     "metadata": {},
     "output_type": "execute_result"
    }
   ],
   "source": [
    "df.tail()"
   ]
  },
  {
   "cell_type": "code",
   "execution_count": 5,
   "metadata": {},
   "outputs": [
    {
     "data": {
      "text/html": [
       "<div>\n",
       "<style scoped>\n",
       "    .dataframe tbody tr th:only-of-type {\n",
       "        vertical-align: middle;\n",
       "    }\n",
       "\n",
       "    .dataframe tbody tr th {\n",
       "        vertical-align: top;\n",
       "    }\n",
       "\n",
       "    .dataframe thead th {\n",
       "        text-align: right;\n",
       "    }\n",
       "</style>\n",
       "<table border=\"1\" class=\"dataframe\">\n",
       "  <thead>\n",
       "    <tr style=\"text-align: right;\">\n",
       "      <th></th>\n",
       "      <th>product_id</th>\n",
       "      <th>product_category</th>\n",
       "      <th>product_type</th>\n",
       "      <th>product_detail</th>\n",
       "    </tr>\n",
       "  </thead>\n",
       "  <tbody>\n",
       "    <tr>\n",
       "      <th>0</th>\n",
       "      <td>1</td>\n",
       "      <td>0</td>\n",
       "      <td>0</td>\n",
       "      <td>French Butter Croissant</td>\n",
       "    </tr>\n",
       "    <tr>\n",
       "      <th>1</th>\n",
       "      <td>2</td>\n",
       "      <td>0</td>\n",
       "      <td>1</td>\n",
       "      <td>Blueberry Muffin</td>\n",
       "    </tr>\n",
       "    <tr>\n",
       "      <th>2</th>\n",
       "      <td>3</td>\n",
       "      <td>0</td>\n",
       "      <td>2</td>\n",
       "      <td>Apple Danish</td>\n",
       "    </tr>\n",
       "    <tr>\n",
       "      <th>3</th>\n",
       "      <td>4</td>\n",
       "      <td>0</td>\n",
       "      <td>2</td>\n",
       "      <td>Cherry Danish</td>\n",
       "    </tr>\n",
       "    <tr>\n",
       "      <th>4</th>\n",
       "      <td>5</td>\n",
       "      <td>0</td>\n",
       "      <td>3</td>\n",
       "      <td>Vanilla Sponge Cake</td>\n",
       "    </tr>\n",
       "  </tbody>\n",
       "</table>\n",
       "</div>"
      ],
      "text/plain": [
       "   product_id  product_category  product_type           product_detail\n",
       "0           1                 0             0  French Butter Croissant\n",
       "1           2                 0             1         Blueberry Muffin\n",
       "2           3                 0             2             Apple Danish\n",
       "3           4                 0             2            Cherry Danish\n",
       "4           5                 0             3      Vanilla Sponge Cake"
      ]
     },
     "execution_count": 5,
     "metadata": {},
     "output_type": "execute_result"
    }
   ],
   "source": [
    "# Load the data\n",
    "df_product = pd.read_csv('../csv/product_descriptions.csv')\n",
    "\n",
    "# Create a dictionary for each column with unique values\n",
    "product_category_dict = {k: v for v, k in enumerate(\n",
    "    df_product['product_category'].unique())}\n",
    "product_type_dict = {k: v for v, k in enumerate(df_product['product_type'].unique())}\n",
    "# product_detail_dict = {k: v for v, k in enumerate(\n",
    "#     df_product['product_detail'].unique())}\n",
    "\n",
    "# Replace the original values with the corresponding dictionary values\n",
    "df_product['product_category'] = df_product['product_category'].map(\n",
    "    product_category_dict).astype(int)\n",
    "df_product['product_type'] = df_product['product_type'].map(\n",
    "    product_type_dict).astype(int)\n",
    "# df_product['product_detail'] = df_product['product_detail'].map(\n",
    "#     product_detail_dict).astype(int)\n",
    "\n",
    "# df_product.to_csv('product_description_encoded.csv', index=False)\n",
    "df_product.head()"
   ]
  },
  {
   "cell_type": "code",
   "execution_count": 182,
   "metadata": {},
   "outputs": [],
   "source": [
    "# Create a dictionary to map 'product_id' to 'product_category'\n",
    "product_id_to_category_dict = df_product.set_index(\n",
    "    'product_id')['product_category'].to_dict()\n",
    "\n",
    "# Create a dictionary to map 'product_id' to 'product_type'\n",
    "product_id_to_type_dict = df_product.set_index(\n",
    "    'product_id')['product_type'].to_dict()\n",
    "\n",
    "# Create a dictionary to map 'product_id' to 'product_detail'\n",
    "product_id_to_detail_dict = df_product.set_index(\n",
    "    'product_id')['product_detail'].to_dict()"
   ]
  },
  {
   "cell_type": "code",
   "execution_count": 7,
   "metadata": {},
   "outputs": [],
   "source": [
    "# Assuming df_product is already loaded and has the same 'product_id' column\n",
    "df = df.merge(df_product, on='product_id', how='left')\n",
    "# Replace NaN values with a unique value\n",
    "df.fillna(-1, inplace=True)\n",
    "\n",
    "df.head()\n",
    "df.to_csv('./../csv/product_description_added.csv', index=False)"
   ]
  },
  {
   "cell_type": "code",
   "execution_count": 8,
   "metadata": {},
   "outputs": [
    {
     "data": {
      "text/html": [
       "<div>\n",
       "<style scoped>\n",
       "    .dataframe tbody tr th:only-of-type {\n",
       "        vertical-align: middle;\n",
       "    }\n",
       "\n",
       "    .dataframe tbody tr th {\n",
       "        vertical-align: top;\n",
       "    }\n",
       "\n",
       "    .dataframe thead th {\n",
       "        text-align: right;\n",
       "    }\n",
       "</style>\n",
       "<table border=\"1\" class=\"dataframe\">\n",
       "  <thead>\n",
       "    <tr style=\"text-align: right;\">\n",
       "      <th></th>\n",
       "      <th>transaction_date</th>\n",
       "      <th>store_id</th>\n",
       "      <th>product_id</th>\n",
       "      <th>transaction_qty</th>\n",
       "      <th>day_of_week</th>\n",
       "      <th>date</th>\n",
       "      <th>day_number</th>\n",
       "      <th>product_category</th>\n",
       "      <th>product_type</th>\n",
       "      <th>product_detail</th>\n",
       "    </tr>\n",
       "  </thead>\n",
       "  <tbody>\n",
       "    <tr>\n",
       "      <th>0</th>\n",
       "      <td>2024-01-01</td>\n",
       "      <td>1</td>\n",
       "      <td>1</td>\n",
       "      <td>0.0</td>\n",
       "      <td>0</td>\n",
       "      <td>1</td>\n",
       "      <td>1</td>\n",
       "      <td>0.0</td>\n",
       "      <td>0.0</td>\n",
       "      <td>French Butter Croissant</td>\n",
       "    </tr>\n",
       "    <tr>\n",
       "      <th>1</th>\n",
       "      <td>2024-01-01</td>\n",
       "      <td>1</td>\n",
       "      <td>2</td>\n",
       "      <td>0.0</td>\n",
       "      <td>0</td>\n",
       "      <td>1</td>\n",
       "      <td>1</td>\n",
       "      <td>0.0</td>\n",
       "      <td>1.0</td>\n",
       "      <td>Blueberry Muffin</td>\n",
       "    </tr>\n",
       "    <tr>\n",
       "      <th>2</th>\n",
       "      <td>2024-01-01</td>\n",
       "      <td>1</td>\n",
       "      <td>3</td>\n",
       "      <td>0.0</td>\n",
       "      <td>0</td>\n",
       "      <td>1</td>\n",
       "      <td>1</td>\n",
       "      <td>0.0</td>\n",
       "      <td>2.0</td>\n",
       "      <td>Apple Danish</td>\n",
       "    </tr>\n",
       "    <tr>\n",
       "      <th>3</th>\n",
       "      <td>2024-01-01</td>\n",
       "      <td>1</td>\n",
       "      <td>4</td>\n",
       "      <td>0.0</td>\n",
       "      <td>0</td>\n",
       "      <td>1</td>\n",
       "      <td>1</td>\n",
       "      <td>0.0</td>\n",
       "      <td>2.0</td>\n",
       "      <td>Cherry Danish</td>\n",
       "    </tr>\n",
       "    <tr>\n",
       "      <th>4</th>\n",
       "      <td>2024-01-01</td>\n",
       "      <td>1</td>\n",
       "      <td>5</td>\n",
       "      <td>0.0</td>\n",
       "      <td>0</td>\n",
       "      <td>1</td>\n",
       "      <td>1</td>\n",
       "      <td>0.0</td>\n",
       "      <td>3.0</td>\n",
       "      <td>Vanilla Sponge Cake</td>\n",
       "    </tr>\n",
       "  </tbody>\n",
       "</table>\n",
       "</div>"
      ],
      "text/plain": [
       "  transaction_date  store_id  product_id  transaction_qty  day_of_week  date  \\\n",
       "0       2024-01-01         1           1              0.0            0     1   \n",
       "1       2024-01-01         1           2              0.0            0     1   \n",
       "2       2024-01-01         1           3              0.0            0     1   \n",
       "3       2024-01-01         1           4              0.0            0     1   \n",
       "4       2024-01-01         1           5              0.0            0     1   \n",
       "\n",
       "   day_number  product_category  product_type           product_detail  \n",
       "0           1               0.0           0.0  French Butter Croissant  \n",
       "1           1               0.0           1.0         Blueberry Muffin  \n",
       "2           1               0.0           2.0             Apple Danish  \n",
       "3           1               0.0           2.0            Cherry Danish  \n",
       "4           1               0.0           3.0      Vanilla Sponge Cake  "
      ]
     },
     "execution_count": 8,
     "metadata": {},
     "output_type": "execute_result"
    }
   ],
   "source": [
    "# unique_dates = df[[\n",
    "#     'transaction_date']].drop_duplicates().values\n",
    "# # Split the dates into 80:20 train and test sets\n",
    "df.head()"
   ]
  },
  {
   "cell_type": "code",
   "execution_count": 9,
   "metadata": {},
   "outputs": [],
   "source": [
    "import torch\n",
    "import torch.nn as nn\n",
    "import torch.optim as optim\n",
    "from torch.utils.data import Dataset, DataLoader\n",
    "# from torch.utils.data.dataset import random_split\n",
    "from sklearn.model_selection import train_test_split\n",
    "from sklearn.preprocessing import StandardScaler\n",
    "scaler = StandardScaler()"
   ]
  },
  {
   "cell_type": "code",
   "execution_count": 112,
   "metadata": {},
   "outputs": [],
   "source": [
    "# 'day_of_week', 'product_category', 'product_type', 'date'\n",
    "class SalesDataset(Dataset):\n",
    "    def __init__(self, df, unique_dates=None, days_per_batch=None, features=8, normalize=True):\n",
    "        self.df = df.sort_values('transaction_date')\n",
    "        self.unique_dates = df['transaction_date'].unique() if unique_dates is None else unique_dates        \n",
    "        self.days_per_batch = min(len(self.unique_dates) - 1, days_per_batch) if days_per_batch is not None else len(self.unique_dates) - 1\n",
    "        self.num_records_per_day = len(\n",
    "            df[df['transaction_date'] == self.unique_dates[0]])\n",
    "        print(\"Unique days\", len(self.unique_dates))\n",
    "        print(\"No. recs per day\", self.num_records_per_day)\n",
    "\n",
    "        # Create a tensor to hold all the data\n",
    "        self.data_tensor = torch.zeros(\n",
    "            (len(self.unique_dates), self.num_records_per_day, features), dtype=torch.float)\n",
    "        self.target_tensor = torch.zeros(\n",
    "            (len(self.unique_dates), self.num_records_per_day), dtype=torch.float)\n",
    "\n",
    "        for i, date in enumerate(self.unique_dates[:-1]):\n",
    "            current_data = self.df[self.df['transaction_date'] == date]\n",
    "            data = current_data[['store_id', 'product_id',\n",
    "                                 'transaction_qty', 'day_of_week', 'product_category', 'product_type', 'date', 'day_number']].values\n",
    "            if normalize:\n",
    "                data = scaler.fit_transform(data)\n",
    "            # Get next day's data\n",
    "            next_date = self.unique_dates[i + 1]\n",
    "            next_data = self.df[self.df['transaction_date'] == next_date]\n",
    "            target = next_data['transaction_qty'].values\n",
    "\n",
    "            self.data_tensor[i] = torch.tensor(data, dtype=torch.float)\n",
    "            self.target_tensor[i] = torch.tensor(target, dtype=torch.float)\n",
    "\n",
    "    def __len__(self):\n",
    "        return len(self.unique_dates) - self.days_per_batch\n",
    "\n",
    "    def __getitem__(self, idx):\n",
    "        # Just index into the precomputed tensors\n",
    "        sequence_data = self.data_tensor[idx :idx+self.days_per_batch]\n",
    "        # targets are the next day's transaction quantities\n",
    "        sequence_target = self.target_tensor[idx: idx+self.days_per_batch]\n",
    "\n",
    "        return sequence_data, sequence_target"
   ]
  },
  {
   "cell_type": "code",
   "execution_count": 113,
   "metadata": {},
   "outputs": [
    {
     "name": "stdout",
     "output_type": "stream",
     "text": [
      "       store_id  product_id  transaction_qty  day_of_week     date  \\\n",
      "count  39672.00    39672.00         39672.00     39672.00 39672.00   \n",
      "mean       2.00       44.00             4.12         2.97    76.50   \n",
      "std        0.82       25.11             4.55         1.99    43.88   \n",
      "min        1.00        1.00             0.00         0.00     1.00   \n",
      "25%        1.00       22.00             0.00         1.00    38.75   \n",
      "50%        2.00       44.00             3.00         3.00    76.50   \n",
      "75%        3.00       66.00             7.00         5.00   114.25   \n",
      "max        3.00       87.00            32.00         6.00   152.00   \n",
      "\n",
      "       day_number  product_category  product_type  \n",
      "count    39672.00          39672.00      39672.00  \n",
      "mean        15.71              3.21         14.25  \n",
      "std          8.79              2.52          8.38  \n",
      "min          1.00             -1.00         -1.00  \n",
      "25%          8.00              1.00          8.00  \n",
      "50%         16.00              3.00         16.00  \n",
      "75%         23.00              5.00         21.00  \n",
      "max         31.00              8.00         28.00  \n"
     ]
    }
   ],
   "source": [
    "# print(df.head(2))\n",
    "pd.set_option('display.float_format', '{:.2f}'.format)\n",
    "print(df.describe())"
   ]
  },
  {
   "cell_type": "code",
   "execution_count": 114,
   "metadata": {},
   "outputs": [],
   "source": [
    "# Split the unique dates into training and test sets\n",
    "unique_dates = df['transaction_date'].unique()\n",
    "train_dates, test_dates = train_test_split(\n",
    "    unique_dates, test_size=0.3, shuffle=False)"
   ]
  },
  {
   "cell_type": "code",
   "execution_count": 115,
   "metadata": {},
   "outputs": [
    {
     "name": "stdout",
     "output_type": "stream",
     "text": [
      "Unique days 106\n",
      "No. recs per day 261\n",
      "Unique days 46\n",
      "No. recs per day 261\n"
     ]
    }
   ],
   "source": [
    "days_per_batch = None\n",
    "train_dataset = SalesDataset(df, unique_dates=train_dates, days_per_batch=days_per_batch)\n",
    "test_dataset = SalesDataset(df, unique_dates=test_dates, days_per_batch=days_per_batch)\n",
    "train_dataloader = DataLoader(train_dataset, batch_size=1, shuffle=True)\n",
    "test_dataloader = DataLoader(test_dataset, batch_size=1, shuffle=False)"
   ]
  },
  {
   "cell_type": "code",
   "execution_count": 116,
   "metadata": {},
   "outputs": [
    {
     "name": "stdout",
     "output_type": "stream",
     "text": [
      "106\n",
      "46\n",
      "1\n",
      "1\n",
      "10\n"
     ]
    }
   ],
   "source": [
    "print(len(train_dates))\n",
    "print(len(test_dates))\n",
    "print(len(train_dataloader))\n",
    "print(len(test_dataloader))\n",
    "print(len(train_dates[0]))"
   ]
  },
  {
   "cell_type": "code",
   "execution_count": 117,
   "metadata": {},
   "outputs": [
    {
     "name": "stdout",
     "output_type": "stream",
     "text": [
      "<torch.utils.data.dataloader._SingleProcessDataLoaderIter object at 0x000002095BF22120>\n",
      "length:  2\n",
      "data length:  1\n",
      "target length:  1\n",
      "data:  torch.Size([105, 261, 8])\n",
      "target:  torch.Size([105, 261])\n"
     ]
    }
   ],
   "source": [
    "data_iter = iter(train_dataloader)\n",
    "print(data_iter)\n",
    "batch1 = next(data_iter)\n",
    "print(\"length: \", len(batch1))\n",
    "print(\"data length: \", len(batch1[0]))\n",
    "print(\"target length: \", len(batch1[1]))\n",
    "print(\"data: \", batch1[0][0].shape)\n",
    "print(\"target: \", batch1[1][0].shape)"
   ]
  },
  {
   "cell_type": "code",
   "execution_count": 16,
   "metadata": {},
   "outputs": [],
   "source": [
    "# class Attention(nn.Module):\n",
    "#     def __init__(self, hidden_layer_size):\n",
    "#         super(Attention, self).__init__()\n",
    "#         self.attention = nn.Linear(hidden_layer_size, 1)\n",
    "\n",
    "#     def forward(self, lstm_out):\n",
    "#         attn_weights = torch.softmax(self.attention(lstm_out), dim=1)\n",
    "#         context_vector = torch.sum(attn_weights * lstm_out, dim=1)\n",
    "#         return context_vector, attn_weights\n",
    "\n",
    "\n",
    "# class LSTM(nn.Module):\n",
    "#     def __init__(self, input_size=261*8, hidden_layer_size=50, output_size=261, num_layers=2, dropout=0.5, bidirectional=False):\n",
    "#         super(LSTM, self).__init__()\n",
    "#         self.hidden_layer_size = hidden_layer_size\n",
    "#         self.num_layers = num_layers\n",
    "#         self.bidirectional = bidirectional\n",
    "\n",
    "#         self.lstm = nn.LSTM(input_size, hidden_layer_size,\n",
    "#                             num_layers=num_layers, dropout=dropout, batch_first=True, bidirectional=bidirectional)\n",
    "#         self.dropout = nn.Dropout(dropout)\n",
    "\n",
    "#         # If bidirectional, hidden_layer_size needs to be doubled for the attention layer input\n",
    "#         attn_input_size = hidden_layer_size * 2 if bidirectional else hidden_layer_size\n",
    "#         self.attention = Attention(attn_input_size)\n",
    "\n",
    "#         # Output size for the linear layer remains the same\n",
    "#         self.linear = nn.Linear(attn_input_size, output_size)\n",
    "\n",
    "#     def forward(self, input_seq):\n",
    "#         # Flatten the last two dimensions of the input\n",
    "#         input_seq = input_seq.view(input_seq.shape[0], input_seq.shape[1], -1)\n",
    "\n",
    "#         h0 = torch.zeros(self.num_layers * (2 if self.bidirectional else 1), input_seq.size(\n",
    "#             0), self.hidden_layer_size).to(input_seq.device)\n",
    "#         c0 = torch.zeros(self.num_layers * (2 if self.bidirectional else 1), input_seq.size(\n",
    "#             0), self.hidden_layer_size).to(input_seq.device)\n",
    "\n",
    "#         lstm_out, _ = self.lstm(input_seq, (h0, c0))\n",
    "#         lstm_out = self.dropout(lstm_out)\n",
    "\n",
    "#         # Apply attention mechanism\n",
    "#         context_vector, attn_weights = self.attention(lstm_out)\n",
    "\n",
    "#         # Expand the context_vector to match the sequence length of lstm_out for sequence prediction\n",
    "#         context_vector = context_vector.unsqueeze(\n",
    "#             1).expand(-1, lstm_out.size(1), -1)\n",
    "\n",
    "#         predictions = self.linear(context_vector)\n",
    "#         return predictions, attn_weights"
   ]
  },
  {
   "cell_type": "code",
   "execution_count": 118,
   "metadata": {},
   "outputs": [],
   "source": [
    "import torch\n",
    "import torch.nn as nn\n",
    "\n",
    "class CustomLSTM(nn.Module):\n",
    "    def __init__(self,\n",
    "                 input_size=261*8,\n",
    "                 hidden_layer_size=50,\n",
    "                 lstm_output_size=261,\n",
    "                 num_layers=2,\n",
    "                 dropout=0.5,\n",
    "                 bidirectional=False,\n",
    "                 pre_lstm_dense_layers=[512, 256],\n",
    "                 post_lstm_dense_layers=[128, 64]):\n",
    "        super(CustomLSTM, self).__init__()\n",
    "\n",
    "        self.hidden_layer_size = hidden_layer_size\n",
    "        self.num_layers = num_layers\n",
    "        self.bidirectional = bidirectional\n",
    "\n",
    "        # Create pre-LSTM dense layers\n",
    "        self.pre_lstm_dense = nn.ModuleList()\n",
    "        current_input_size = input_size\n",
    "        for layer_size in pre_lstm_dense_layers:\n",
    "            self.pre_lstm_dense.append(\n",
    "                nn.Linear(current_input_size, layer_size))\n",
    "            self.pre_lstm_dense.append(nn.ReLU())\n",
    "            self.pre_lstm_dense.append(nn.Dropout(dropout))\n",
    "            current_input_size = layer_size\n",
    "\n",
    "        # LSTM layer\n",
    "        self.lstm = nn.LSTM(current_input_size, hidden_layer_size,\n",
    "                            num_layers=num_layers, dropout=dropout, batch_first=True, bidirectional=bidirectional)\n",
    "\n",
    "        # Adjust linear input size for bidirectional LSTM\n",
    "        linear_input_size = hidden_layer_size * \\\n",
    "            2 if bidirectional else hidden_layer_size\n",
    "\n",
    "        # Create post-LSTM dense layers\n",
    "        self.post_lstm_dense = nn.ModuleList()\n",
    "        for layer_size in post_lstm_dense_layers:\n",
    "            self.post_lstm_dense.append(\n",
    "                nn.Linear(linear_input_size, layer_size))\n",
    "            self.post_lstm_dense.append(nn.ReLU())\n",
    "            self.post_lstm_dense.append(nn.Dropout(dropout))\n",
    "            linear_input_size = layer_size\n",
    "\n",
    "        # Final output layer\n",
    "        self.output_layer = nn.Linear(linear_input_size, lstm_output_size)\n",
    "\n",
    "    def forward(self, input_seq):\n",
    "        # Feed through pre-LSTM dense layers\n",
    "        input_seq = input_seq.view(input_seq.shape[0], input_seq.shape[1], -1)\n",
    "\n",
    "        for layer in self.pre_lstm_dense:\n",
    "            input_seq = layer(input_seq)\n",
    "\n",
    "        # Initialize hidden state and cell state\n",
    "        h0 = torch.zeros(self.num_layers * (2 if self.bidirectional else 1),\n",
    "                         input_seq.size(0), self.hidden_layer_size).to(input_seq.device)\n",
    "        c0 = torch.zeros(self.num_layers * (2 if self.bidirectional else 1),\n",
    "                         input_seq.size(0), self.hidden_layer_size).to(input_seq.device)\n",
    "\n",
    "        # LSTM forward pass\n",
    "        lstm_out, _ = self.lstm(input_seq, (h0, c0))\n",
    "        lstm_out = lstm_out[:, :, :]  # Select the last time step's output\n",
    "\n",
    "        # Feed through post-LSTM dense layers\n",
    "        for layer in self.post_lstm_dense:\n",
    "            lstm_out = layer(lstm_out)\n",
    "\n",
    "        # Final output layer\n",
    "        predictions = self.output_layer(lstm_out)\n",
    "        return predictions\n",
    "\n",
    "# Example usage:\n",
    "# model = CustomLSTM(input_size=261*8, hidden_layer_size=50, lstm_output_size=261,\n",
    "#                    num_layers=2, dropout=0.5, bidirectional=False,\n",
    "#                    pre_lstm_dense_layers=[512, 256], post_lstm_dense_layers=[128, 64])\n",
    "# input_tensor = torch.randn((batch_size, sequence_length, input_size))\n",
    "# output = model(input_tensor)"
   ]
  },
  {
   "cell_type": "code",
   "execution_count": 119,
   "metadata": {},
   "outputs": [],
   "source": [
    "import torch\n",
    "import torch.nn as nn\n",
    "\n",
    "\n",
    "class LSTM(nn.Module):\n",
    "    def __init__(self, input_size=261*8, hidden_layer_size=50, output_size=261, num_layers=2, dropout=0.5, bidirectional=False):\n",
    "        super(LSTM, self).__init__()\n",
    "        self.hidden_layer_size = hidden_layer_size\n",
    "        self.num_layers = num_layers\n",
    "        self.bidirectional = bidirectional\n",
    "\n",
    "        self.lstm = nn.LSTM(input_size, hidden_layer_size,\n",
    "                            num_layers=num_layers, dropout=dropout, batch_first=True, bidirectional=bidirectional)\n",
    "        self.dropout = nn.Dropout(dropout)\n",
    "\n",
    "        # If bidirectional, hidden_layer_size needs to be doubled for the linear layer input\n",
    "        linear_input_size = hidden_layer_size * \\\n",
    "            2 if bidirectional else hidden_layer_size\n",
    "        self.linear = nn.Linear(linear_input_size, output_size)\n",
    "\n",
    "    def forward(self, input_seq):\n",
    "        # Flatten the last two dimensions of the input\n",
    "        input_seq = input_seq.view(input_seq.shape[0], input_seq.shape[1], -1)\n",
    "\n",
    "        h0 = torch.zeros(self.num_layers * (2 if self.bidirectional else 1), input_seq.size(\n",
    "            0), self.hidden_layer_size).to(input_seq.device)\n",
    "        c0 = torch.zeros(self.num_layers * (2 if self.bidirectional else 1), input_seq.size(\n",
    "            0), self.hidden_layer_size).to(input_seq.device)\n",
    "\n",
    "        lstm_out, _ = self.lstm(input_seq, (h0, c0))\n",
    "        lstm_out = self.dropout(lstm_out)\n",
    "        predictions = self.linear(lstm_out)\n",
    "        predictions = predictions[:, :, :]  # Select the last time step prediction\n",
    "        return predictions"
   ]
  },
  {
   "cell_type": "code",
   "execution_count": 120,
   "metadata": {},
   "outputs": [],
   "source": [
    "model = CustomLSTM(input_size=261*8, hidden_layer_size=50, lstm_output_size=261,\n",
    "                   num_layers=2, dropout=0.5, bidirectional=False,\n",
    "                   pre_lstm_dense_layers=[512, 256], post_lstm_dense_layers=[128, 64])\n",
    "input_tensor = torch.randn((3, 152, 261*8))\n",
    "output = model(input_tensor)"
   ]
  },
  {
   "cell_type": "code",
   "execution_count": 121,
   "metadata": {},
   "outputs": [
    {
     "name": "stdout",
     "output_type": "stream",
     "text": [
      "torch.Size([3, 152, 261])\n"
     ]
    }
   ],
   "source": [
    "print(output.shape)"
   ]
  },
  {
   "cell_type": "code",
   "execution_count": 122,
   "metadata": {},
   "outputs": [],
   "source": [
    "def train_model(model, criterion, optimizer, dataloader, model_varient='lstm'):\n",
    "    model.train()\n",
    "    total_loss = 0\n",
    "\n",
    "    for data, target in dataloader:\n",
    "        optimizer.zero_grad()\n",
    "        if model_varient == 'transformer':\n",
    "            output = model(data, data)\n",
    "        else:\n",
    "            output = model(data)\n",
    "        # print(output)\n",
    "        # print(output.shape)\n",
    "        # print(target.shape)\n",
    "        loss = criterion(output, target)\n",
    "        loss.backward()\n",
    "        optimizer.step()\n",
    "\n",
    "        total_loss += loss.item()\n",
    "    # print(total_loss)\n",
    "    return total_loss / len(dataloader)"
   ]
  },
  {
   "cell_type": "code",
   "execution_count": 123,
   "metadata": {},
   "outputs": [],
   "source": [
    "def evaluate_model(model, criterion, dataloader, model_varient='lstm'):\n",
    "    model.eval()\n",
    "    total_loss = 0\n",
    "\n",
    "    with torch.no_grad():\n",
    "        for data, target in dataloader:\n",
    "            if model_varient == 'transformer':\n",
    "                output = model(data, data)\n",
    "            else:\n",
    "                output = model(data)\n",
    "            # print(output.shape)\n",
    "            # print(target.shape)\n",
    "            loss = criterion(output, target)\n",
    "            total_loss += loss.item()\n",
    "\n",
    "    return total_loss / len(dataloader)"
   ]
  },
  {
   "cell_type": "code",
   "execution_count": 124,
   "metadata": {},
   "outputs": [],
   "source": [
    "\n",
    "def model_fit(model, criterion, optimizer, train_dataloader, test_dataloader, num_epochs=25, patience=10, model_variant='lstm', checkpoint=40):\n",
    "    train_losses = []\n",
    "    test_losses = []\n",
    "\n",
    "    best_test_loss = float('inf')\n",
    "    patience_counter = 0\n",
    "\n",
    "    for epoch in range(num_epochs):\n",
    "        train_loss = train_model(model, criterion, optimizer, train_dataloader, model_variant)\n",
    "        test_loss = evaluate_model(model, criterion, test_dataloader, model_variant)\n",
    "\n",
    "        train_losses.append(train_loss)\n",
    "        test_losses.append(test_loss)\n",
    "\n",
    "        if test_loss < best_test_loss:\n",
    "            best_test_loss = test_loss\n",
    "            patience_counter = 0\n",
    "        else:\n",
    "            patience_counter += 1\n",
    "        if (epoch + 1) % checkpoint == 0:\n",
    "            print(f\"Epoch {epoch+1}/{num_epochs}: Train Loss = {train_loss:.4f}, Test Loss = {test_loss:.4f}\")\n",
    "\n",
    "        if patience_counter >= patience:\n",
    "            print(\"Early stopping triggered\")\n",
    "            break\n",
    "\n",
    "    return model, train_losses, test_losses"
   ]
  },
  {
   "cell_type": "code",
   "execution_count": 125,
   "metadata": {},
   "outputs": [],
   "source": [
    "def plot_losses(train_losses, test_losses, figsize=(6, 3)):\n",
    "    plt.figure(figsize=figsize)\n",
    "    plt.plot(train_losses, label='Train Loss')\n",
    "    plt.plot(test_losses, label='Test Loss')\n",
    "    plt.title('Losses')\n",
    "    plt.xlabel('Epoch')\n",
    "    plt.ylabel('Loss')\n",
    "    plt.legend()\n",
    "    plt.show()"
   ]
  },
  {
   "cell_type": "code",
   "execution_count": 168,
   "metadata": {},
   "outputs": [
    {
     "name": "stdout",
     "output_type": "stream",
     "text": [
      "<bound method Module.parameters of CustomLSTM(\n",
      "  (pre_lstm_dense): ModuleList()\n",
      "  (lstm): LSTM(2088, 128, num_layers=2, batch_first=True, dropout=0.5)\n",
      "  (post_lstm_dense): ModuleList()\n",
      "  (output_layer): Linear(in_features=128, out_features=261, bias=True)\n",
      ")>\n"
     ]
    }
   ],
   "source": [
    "# # Initialize the model, loss function and optimizer\n",
    "# model = LSTM(hidden_layer_size=8, num_layers=2, dropout=0.5, bidirectional=False)\n",
    "model = CustomLSTM(input_size=261*8, hidden_layer_size=128, lstm_output_size=261,\n",
    "                   num_layers=2, dropout=0.5, bidirectional=False,\n",
    "                   pre_lstm_dense_layers=[], post_lstm_dense_layers=[])\n",
    "print(model.parameters)\n",
    "loss_function = nn.MSELoss()\n",
    "optimizer = torch.optim.Adam(model.parameters(), lr=0.001, weight_decay=0.001)"
   ]
  },
  {
   "cell_type": "code",
   "execution_count": 169,
   "metadata": {},
   "outputs": [
    {
     "name": "stdout",
     "output_type": "stream",
     "text": [
      "Epoch 5/100: Train Loss = 7.8603, Test Loss = 23.3644\n",
      "Epoch 10/100: Train Loss = 7.8219, Test Loss = 23.2446\n",
      "Early stopping triggered\n"
     ]
    },
    {
     "data": {
      "image/png": "[encoded data removed]",
      "text/plain": [
       "<Figure size 600x300 with 1 Axes>"
      ]
     },
     "metadata": {},
     "output_type": "display_data"
    }
   ],
   "source": [
    "# Run model_fit\n",
    "model, train_losses, test_losses = model_fit(\n",
    "    model, loss_function, optimizer, train_dataloader, test_dataloader, num_epochs=100, checkpoint=5, patience=10, model_variant='lstm')\n",
    "\n",
    "plot_losses(train_losses, test_losses, figsize=(6, 3))"
   ]
  },
  {
   "cell_type": "code",
   "execution_count": 170,
   "metadata": {},
   "outputs": [],
   "source": [
    "df = pd.read_csv('./../csv/product_description_added.csv')"
   ]
  },
  {
   "cell_type": "code",
   "execution_count": 171,
   "metadata": {},
   "outputs": [],
   "source": [
    "train_dates, test_dates = train_test_split(\n",
    "    unique_dates, test_size=0.3, shuffle=False)\n"
   ]
  },
  {
   "cell_type": "code",
   "execution_count": 172,
   "metadata": {},
   "outputs": [
    {
     "name": "stdout",
     "output_type": "stream",
     "text": [
      "Unique days 106\n",
      "No. recs per day 261\n",
      "Unique days 46\n",
      "No. recs per day 261\n"
     ]
    }
   ],
   "source": [
    "days_per_batch = 7\n",
    "train_dataset = SalesDataset(df, train_dates, days_per_batch)\n",
    "test_dataset = SalesDataset(df, test_dates, days_per_batch)\n",
    "train_dataloader = DataLoader(train_dataset, batch_size=1, shuffle=True)\n",
    "test_dataloader = DataLoader(test_dataset, batch_size=1, shuffle=False)\n",
    "\n",
    "model = LSTM(hidden_layer_size=24, num_layers=2)\n",
    "loss_function = nn.MSELoss()\n",
    "optimizer = torch.optim.Adam(model.parameters(), lr=0.001, weight_decay=1e-5)\n",
    "# optimizer = torch.optim.Adam(model.parameters(), lr=0.001)"
   ]
  },
  {
   "cell_type": "code",
   "execution_count": 173,
   "metadata": {},
   "outputs": [
    {
     "name": "stdout",
     "output_type": "stream",
     "text": [
      "Epoch 5/30: Train Loss = 9.1303, Test Loss = 24.0729\n",
      "Epoch 10/30: Train Loss = 9.0102, Test Loss = 23.7440\n",
      "Epoch 15/30: Train Loss = 8.9988, Test Loss = 23.4721\n",
      "Epoch 20/30: Train Loss = 8.7062, Test Loss = 23.2945\n",
      "Epoch 25/30: Train Loss = 8.8631, Test Loss = 23.4640\n",
      "Early stopping triggered\n"
     ]
    },
    {
     "data": {
      "image/png": "[encoded data removed]",
      "text/plain": [
       "<Figure size 600x300 with 1 Axes>"
      ]
     },
     "metadata": {},
     "output_type": "display_data"
    }
   ],
   "source": [
    "model, train_losses, test_losses = model_fit(\n",
    "    model, loss_function, optimizer, train_dataloader, test_dataloader, num_epochs=30, checkpoint=5)\n",
    "plot_losses(train_losses, test_losses)"
   ]
  },
  {
   "cell_type": "code",
   "execution_count": 176,
   "metadata": {},
   "outputs": [
    {
     "name": "stdout",
     "output_type": "stream",
     "text": [
      "Unique days 152\n",
      "No. recs per day 261\n",
      "Unique days 46\n",
      "No. recs per day 261\n"
     ]
    }
   ],
   "source": [
    "days_per_batch = 30\n",
    "train_dataset = SalesDataset(df, unique_dates, days_per_batch)\n",
    "test_dataset = SalesDataset(df, test_dates, days_per_batch)\n",
    "train_dataloader = DataLoader(train_dataset, batch_size=3, shuffle=True)\n",
    "test_dataloader = DataLoader(test_dataset, batch_size=3, shuffle=False)"
   ]
  },
  {
   "cell_type": "code",
   "execution_count": 177,
   "metadata": {},
   "outputs": [
    {
     "name": "stdout",
     "output_type": "stream",
     "text": [
      "Epoch 3/20: Train Loss = 16.9543, Test Loss = 31.5986\n",
      "Epoch 6/20: Train Loss = 11.4691, Test Loss = 22.1025\n",
      "Epoch 9/20: Train Loss = 10.8818, Test Loss = 19.9762\n",
      "Epoch 12/20: Train Loss = 10.8398, Test Loss = 19.3404\n",
      "Epoch 15/20: Train Loss = 10.8478, Test Loss = 19.2447\n",
      "Epoch 18/20: Train Loss = 10.7848, Test Loss = 19.2458\n"
     ]
    },
    {
     "data": {
      "image/png": "[encoded data removed]",
      "text/plain": [
       "<Figure size 600x300 with 1 Axes>"
      ]
     },
     "metadata": {},
     "output_type": "display_data"
    }
   ],
   "source": [
    "model = CustomLSTM(input_size=261*8, hidden_layer_size=30, lstm_output_size=261,\n",
    "                   num_layers=2, dropout=0.5, bidirectional=False,\n",
    "                   pre_lstm_dense_layers=[], post_lstm_dense_layers=[])\n",
    "loss_function = nn.MSELoss()\n",
    "optimizer = torch.optim.Adam(model.parameters(), lr=0.001, weight_decay=1e-5)\n",
    "model, train_losses, test_losses = model_fit(\n",
    "    model, loss_function, optimizer, train_dataloader, test_dataloader, num_epochs=20, checkpoint=3, patience=10)\n",
    "plot_losses(train_losses, test_losses)"
   ]
  },
  {
   "cell_type": "code",
   "execution_count": 136,
   "metadata": {},
   "outputs": [
    {
     "name": "stdout",
     "output_type": "stream",
     "text": [
      "Unique days 106\n",
      "No. recs per day 261\n",
      "Unique days 46\n",
      "No. recs per day 261\n"
     ]
    }
   ],
   "source": [
    "days_per_batch = 30\n",
    "train_dataset = SalesDataset(df, train_dates, days_per_batch)\n",
    "test_dataset = SalesDataset(df, test_dates, days_per_batch)\n",
    "train_dataloader = DataLoader(train_dataset, batch_size=3, shuffle=True)\n",
    "test_dataloader = DataLoader(test_dataset, batch_size=3, shuffle=False)"
   ]
  },
  {
   "cell_type": "code",
   "execution_count": 137,
   "metadata": {},
   "outputs": [
    {
     "name": "stdout",
     "output_type": "stream",
     "text": [
      "Epoch 40/200: Train Loss = 8.0775, Test Loss = 23.5598\n",
      "Early stopping triggered\n"
     ]
    },
    {
     "data": {
      "image/png": "[encoded data removed]",
      "text/plain": [
       "<Figure size 600x300 with 1 Axes>"
      ]
     },
     "metadata": {},
     "output_type": "display_data"
    }
   ],
   "source": [
    "model = LSTM(hidden_layer_size=64, num_layers=8, dropout=0.5)\n",
    "loss_function = nn.MSELoss()\n",
    "optimizer = torch.optim.Adam(model.parameters(), lr=0.001, weight_decay=1e-5)\n",
    "# optimizer = torch.optim.Adam(model.parameters(), lr=0.001)\n",
    "model, train_losses, test_losses = model_fit(\n",
    "    model, loss_function, optimizer, train_dataloader, test_dataloader, num_epochs=200, checkpoint=40)\n",
    "plot_losses(train_losses, test_losses)"
   ]
  },
  {
   "cell_type": "code",
   "execution_count": null,
   "metadata": {},
   "outputs": [
    {
     "name": "stdout",
     "output_type": "stream",
     "text": [
      "Unique days 152\n",
      "No. recs per day 261\n",
      "Unique days 46\n",
      "No. recs per day 261\n",
      "Epoch 40: Train Loss = 18.2386, Test Loss = 30.4016\n",
      "Epoch 80: Train Loss = 16.0484, Test Loss = 24.1326\n",
      "Epoch 120: Train Loss = 15.2105, Test Loss = 22.8361\n",
      "Epoch 160: Train Loss = 14.7563, Test Loss = 22.5587\n",
      "Epoch 200: Train Loss = 15.2982, Test Loss = 22.1649\n",
      "Epoch 200: Train Loss = 15.2982, Test Loss = 22.1649\n"
     ]
    },
    {
     "data": {
      "image/png": "[encoded data removed]",
      "text/plain": [
       "<Figure size 600x300 with 1 Axes>"
      ]
     },
     "metadata": {},
     "output_type": "display_data"
    }
   ],
   "source": [
    "days_per_batch = 20\n",
    "train_dataset = SalesDataset(df, unique_dates, days_per_batch, normalize=True)\n",
    "test_dataset = SalesDataset(df, test_dates, days_per_batch, normalize=True)\n",
    "train_dataloader = DataLoader(train_dataset, batch_size=20, shuffle=True)\n",
    "test_dataloader = DataLoader(test_dataset, batch_size=20, shuffle=False)\n",
    "model = LSTM(hidden_layer_size=16, num_layers=2, dropout=0.7)\n",
    "loss_function = nn.MSELoss()\n",
    "optimizer = torch.optim.Adam(model.parameters(), lr=0.001, weight_decay=1e-5)\n",
    "model, train_losses, test_losses = model_fit(\n",
    "    model, loss_function, optimizer, train_dataloader, test_dataloader, num_epochs=200, checkpoint=40)\n",
    "plot_losses(train_losses, test_losses)"
   ]
  },
  {
   "cell_type": "code",
   "execution_count": null,
   "metadata": {},
   "outputs": [],
   "source": [
    "# days_per_batch = 30\n",
    "# train_dataset = SalesDataset(df, train_dates, days_per_batch, normalize=True)\n",
    "# test_dataset = SalesDataset(df, test_dates, days_per_batch, normalize=True)\n",
    "# train_dataloader = DataLoader(train_dataset, batch_size=10, shuffle=True)\n",
    "# test_dataloader = DataLoader(test_dataset, batch_size=10, shuffle=False)\n",
    "# model = TransformerModel()\n",
    "# loss_function = nn.MSELoss()\n",
    "# optimizer = torch.optim.Adam(model.parameters(), lr=0.001, weight_decay=1e-4)\n",
    "# model, train_losses, test_losses = model_fit(\n",
    "#     model, loss_function, optimizer, train_dataloader, test_dataloader, num_epochs=200, checkpoint=40, model_varient='transformer')\n",
    "# plot_losses(train_losses, test_losses)"
   ]
  },
  {
   "cell_type": "code",
   "execution_count": 180,
   "metadata": {},
   "outputs": [
    {
     "name": "stdout",
     "output_type": "stream",
     "text": [
      "transaction_date    datetime64[ns]\n",
      "store_id                     int64\n",
      "product_id                   int64\n",
      "transaction_qty            float64\n",
      "day_of_week                  int64\n",
      "date                       float64\n",
      "day_number                   int64\n",
      "product_category           float64\n",
      "product_type               float64\n",
      "product_detail              object\n",
      "dtype: object\n"
     ]
    }
   ],
   "source": [
    "print(df.dtypes)"
   ]
  },
  {
   "cell_type": "code",
   "execution_count": 190,
   "metadata": {},
   "outputs": [
    {
     "name": "stdout",
     "output_type": "stream",
     "text": [
      "Day:  0\n",
      "Unique days 152\n",
      "No. recs per day 261\n",
      "Day:  1\n",
      "Unique days 153\n",
      "No. recs per day 261\n",
      "Day:  2\n",
      "Unique days 154\n",
      "No. recs per day 261\n",
      "Day:  3\n",
      "Unique days 155\n",
      "No. recs per day 261\n",
      "Day:  4\n",
      "Unique days 156\n",
      "No. recs per day 261\n",
      "Day:  5\n",
      "Unique days 157\n",
      "No. recs per day 261\n",
      "Day:  6\n",
      "Unique days 158\n",
      "No. recs per day 261\n",
      "Day:  7\n",
      "Unique days 159\n",
      "No. recs per day 261\n",
      "Day:  8\n",
      "Unique days 160\n",
      "No. recs per day 261\n",
      "Day:  9\n",
      "Unique days 161\n",
      "No. recs per day 261\n",
      "Day:  10\n",
      "Unique days 162\n",
      "No. recs per day 261\n",
      "Day:  11\n",
      "Unique days 163\n",
      "No. recs per day 261\n",
      "Day:  12\n",
      "Unique days 164\n",
      "No. recs per day 261\n",
      "Day:  13\n",
      "Unique days 165\n",
      "No. recs per day 261\n"
     ]
    }
   ],
   "source": [
    "from datetime import datetime, timedelta\n",
    "\n",
    "df = pd.read_csv('../csv/product_description_added.csv')\n",
    "# df = df.apply(lambda x: x.astype(float) if x.dtype.kind in 'biufc' else x)\n",
    "\n",
    "# print(df.head())\n",
    "# Initialize store_id, product_id and transaction_date\n",
    "store_id = 1\n",
    "product_id = 1\n",
    "last_date = df['date'].max()\n",
    "transaction_date = datetime.strptime('2024-06-01', '%Y-%m-%d')\n",
    "\n",
    "# Create 261 new entries for each day, for 14 days\n",
    "for day in range(14):\n",
    "    print(\"Day: \", day)\n",
    "    # Generate 261 predictions for the day\n",
    "    dataset = SalesDataset(df, days_per_batch=None, normalize=True)\n",
    "    dataloader = DataLoader(dataset, batch_size=1, shuffle=True)\n",
    "    data_iter = iter(dataloader)\n",
    "    data, target = next(data_iter)\n",
    "    predictions = model(data)\n",
    "    # print(predictions[0, -1, 0].item())\n",
    "    # print(predictions.shape)\n",
    "    for i in range(261):\n",
    "        # Append a new entry to the DataFrame\n",
    "        new_entry = pd.DataFrame({\n",
    "            'transaction_date': [transaction_date],\n",
    "            'store_id': [store_id],\n",
    "            'product_id': [product_id],\n",
    "            'transaction_qty': [np.round(predictions[0, -1, i].item())],\n",
    "            'date': [last_date + 1],\n",
    "            'day_of_week': [transaction_date.weekday()],\n",
    "            'day_number': [transaction_date.day],\n",
    "            'product_category': [product_id_to_category_dict.get(product_id, -1)],\n",
    "            'product_type': [product_id_to_type_dict.get(product_id, -1)],\n",
    "            'product_detail': [product_id_to_detail_dict.get(product_id, -1)]\n",
    "        })\n",
    "        # new_entry = new_entry.astype(int, errors='ignore') \n",
    "        # print(new_entry)     \n",
    "        # print(new_entry.dtypes)\n",
    "        df = pd.concat([df, new_entry], ignore_index=True)\n",
    "        # df.fillna(-1, inplace=True)\n",
    "        df['transaction_date'] = pd.to_datetime(df['transaction_date'])\n",
    "        \n",
    "        # Update product_id and store_id for the next entry\n",
    "        last_date += 1\n",
    "        product_id += 1\n",
    "        if product_id > 87:\n",
    "            product_id = 1\n",
    "            store_id += 1\n",
    "        if store_id > 3:\n",
    "            store_id = 1\n",
    "\n",
    "    # Update transaction_date for the next day\n",
    "    transaction_date += timedelta(days=1)\n",
    "\n",
    "# At the end of the loop, new_entries contains 261 new entries for each day, for 14 days"
   ]
  },
  {
   "cell_type": "code",
   "execution_count": 191,
   "metadata": {},
   "outputs": [],
   "source": [
    "df.to_csv('output.csv', index=False)"
   ]
  },
  {
   "cell_type": "code",
   "execution_count": 192,
   "metadata": {},
   "outputs": [],
   "source": [
    "df.tail(261*14).to_csv('my_submission.csv', index=False)"
   ]
  },
  {
   "cell_type": "code",
   "execution_count": 193,
   "metadata": {},
   "outputs": [],
   "source": [
    "df_filtered = df.drop(\n",
    "    columns=['day_of_week', 'product_category', 'product_type', 'product_detail'])\n",
    "# df_filtered.tail(261*14).to_csv('my_submission_final.csv')"
   ]
  },
  {
   "cell_type": "code",
   "execution_count": 194,
   "metadata": {},
   "outputs": [
    {
     "data": {
      "text/plain": [
       "<bound method NDFrame.tail of       transaction_date  store_id  product_id  transaction_qty  day_of_week  \\\n",
       "0           2024-01-01         1           1             0.00            0   \n",
       "1           2024-01-01         1           2             0.00            0   \n",
       "2           2024-01-01         1           3             0.00            0   \n",
       "3           2024-01-01         1           4             0.00            0   \n",
       "4           2024-01-01         1           5             0.00            0   \n",
       "...                ...       ...         ...              ...          ...   \n",
       "43321       2024-06-14         3          83             0.00            4   \n",
       "43322       2024-06-14         3          84             0.00            4   \n",
       "43323       2024-06-14         3          85             2.00            4   \n",
       "43324       2024-06-14         3          86             2.00            4   \n",
       "43325       2024-06-14         3          87             0.00            4   \n",
       "\n",
       "       date  day_number  product_category  product_type  \\\n",
       "0         1           1              0.00          0.00   \n",
       "1         1           1              0.00          1.00   \n",
       "2         1           1              0.00          2.00   \n",
       "3         1           1              0.00          2.00   \n",
       "4         1           1              0.00          3.00   \n",
       "...     ...         ...               ...           ...   \n",
       "43321  3802          14              8.00         28.00   \n",
       "43322  3803          14              6.00         22.00   \n",
       "43323  3804          14             -1.00         -1.00   \n",
       "43324  3805          14             -1.00         -1.00   \n",
       "43325  3806          14              3.00         16.00   \n",
       "\n",
       "                  product_detail  \n",
       "0        French Butter Croissant  \n",
       "1               Blueberry Muffin  \n",
       "2                   Apple Danish  \n",
       "3                  Cherry Danish  \n",
       "4            Vanilla Sponge Cake  \n",
       "...                          ...  \n",
       "43321  I Need My Bean! Latte cup  \n",
       "43322            Chocolate syrup  \n",
       "43323                         -1  \n",
       "43324                         -1  \n",
       "43325       Ouro Brasileiro shot  \n",
       "\n",
       "[43326 rows x 10 columns]>"
      ]
     },
     "execution_count": 194,
     "metadata": {},
     "output_type": "execute_result"
    }
   ],
   "source": [
    "df.tail"
   ]
  },
  {
   "cell_type": "code",
   "execution_count": 196,
   "metadata": {},
   "outputs": [],
   "source": [
    "submission = pd.read_csv('../csv/submission_key.csv')\n",
    "df_filtered['transaction_date'] = df_filtered['transaction_date'].dt.strftime(\n",
    "    '%Y-%m-%d')\n",
    "df_filtered['store_id'] = 'ST' + df_filtered['store_id'].astype(str)\n",
    "# Merge df_filtered and submission on all columns\n",
    "df_filtered = df_filtered.merge(submission, how='inner')"
   ]
  },
  {
   "cell_type": "code",
   "execution_count": 201,
   "metadata": {},
   "outputs": [],
   "source": [
    "df_filtered = df_filtered[['ID', 'transaction_date',\n",
    "                           'store_id', 'product_id', 'transaction_qty']]\n",
    "df_filtered.to_csv('./../csv/my_submission_final.csv', index=False)"
   ]
  },
  {
   "cell_type": "code",
   "execution_count": 202,
   "metadata": {},
   "outputs": [],
   "source": [
    "df_final = df_filtered[['ID', 'transaction_qty']].rename(\n",
    "    columns={'transaction_qty': 'sold_qty'})\n",
    "df_final.to_csv('./../my_submission_final.csv', index=False)"
   ]
  },
  {
   "cell_type": "code",
   "execution_count": null,
   "metadata": {},
   "outputs": [],
   "source": []
  },
  {
   "cell_type": "code",
   "execution_count": null,
   "metadata": {},
   "outputs": [],
   "source": []
  },
  {
   "cell_type": "code",
   "execution_count": null,
   "metadata": {},
   "outputs": [],
   "source": [
    "import torch\n",
    "import torch.nn as nn\n",
    "import torch.nn.functional as F\n",
    "from torch.utils.data import Dataset, DataLoader\n",
    "\n",
    "\n",
    "class TransformerModel(nn.Module):\n",
    "    def __init__(self, input_size=261*8, output_size=261, d_model=512, nhead=8, num_encoder_layers=6, num_decoder_layers=6, dim_feedforward=2048, dropout=0.1):\n",
    "        super(TransformerModel, self).__init__()\n",
    "        self.input_size = input_size\n",
    "        self.d_model = d_model\n",
    "\n",
    "        self.embedding = nn.Linear(input_size, d_model)\n",
    "        self.positional_encoding = PositionalEncoding(d_model, dropout)\n",
    "\n",
    "        self.transformer = nn.Transformer(\n",
    "            d_model, nhead, num_encoder_layers, num_decoder_layers, dim_feedforward, dropout)\n",
    "        self.fc_out = nn.Linear(d_model, output_size)\n",
    "\n",
    "    def forward(self, src, tgt):\n",
    "        # Apply embedding and positional encoding\n",
    "        src = self.embedding(\n",
    "            src) * torch.sqrt(torch.tensor(self.d_model, dtype=torch.float32))\n",
    "        tgt = self.embedding(\n",
    "            tgt) * torch.sqrt(torch.tensor(self.d_model, dtype=torch.float32))\n",
    "\n",
    "        src = self.positional_encoding(src)\n",
    "        tgt = self.positional_encoding(tgt)\n",
    "\n",
    "        # Transformer expects inputs in shape (seq_len, batch_size, d_model)\n",
    "        src = src.transpose(0, 1)\n",
    "        tgt = tgt.transpose(0, 1)\n",
    "\n",
    "        output = self.transformer(src, tgt)\n",
    "        output = self.fc_out(output)\n",
    "\n",
    "        # Return the output in shape (batch_size, seq_len, output_size)\n",
    "        return output.transpose(0, 1)\n",
    "\n",
    "\n",
    "class PositionalEncoding(nn.Module):\n",
    "    def __init__(self, d_model, dropout=0.1, max_len=5000):\n",
    "        super(PositionalEncoding, self).__init__()\n",
    "        self.dropout = nn.Dropout(p=dropout)\n",
    "\n",
    "        pe = torch.zeros(max_len, d_model)\n",
    "        position = torch.arange(0, max_len, dtype=torch.float).unsqueeze(1)\n",
    "        div_term = torch.exp(torch.arange(0, d_model, 2).float(\n",
    "        ) * (-torch.log(torch.tensor(10000.0)) / d_model))\n",
    "        pe[:, 0::2] = torch.sin(position * div_term)\n",
    "        pe[:, 1::2] = torch.cos(position * div_term)\n",
    "        pe = pe.unsqueeze(0).transpose(0, 1)\n",
    "        self.register_buffer('pe', pe)\n",
    "\n",
    "    def forward(self, x):\n",
    "        x = x + self.pe[:x.size(0), :]\n",
    "        return self.dropout(x)\n",
    "\n",
    "# Data preparation\n",
    "\n",
    "\n",
    "class SalesDataset(Dataset):\n",
    "    def __init__(self, df, unique_dates=None, days_per_batch=None, features=8, normalize=True):\n",
    "        self.df = df.sort_values('transaction_date')\n",
    "        self.unique_dates = df['transaction_date'].unique(\n",
    "        ) if unique_dates is None else unique_dates\n",
    "        self.days_per_batch = len(self.unique_dates) - \\\n",
    "            1 if days_per_batch is None else days_per_batch\n",
    "        self.num_records_per_day = len(\n",
    "            df[df['transaction_date'] == self.unique_dates[0]])\n",
    "        print(\"Unique days\", len(self.unique_dates))\n",
    "        print(\"No. recs per day\", self.num_records_per_day)\n",
    "\n",
    "        self.data_tensor = torch.zeros(\n",
    "            (len(self.unique_dates), self.num_records_per_day, features), dtype=torch.float)\n",
    "        self.target_tensor = torch.zeros(\n",
    "            (len(self.unique_dates), self.num_records_per_day), dtype=torch.float)\n",
    "\n",
    "        for i, date in enumerate(self.unique_dates[:-1]):\n",
    "            current_data = self.df[self.df['transaction_date'] == date]\n",
    "            data = current_data[['store_id', 'product_id', 'transaction_qty', 'day_of_week',\n",
    "                                 'product_category', 'product_type', 'date', 'day_number']].values\n",
    "            if normalize:\n",
    "                data = scaler.fit_transform(data)\n",
    "            next_date = self.unique_dates[i + 1]\n",
    "            next_data = self.df[self.df['transaction_date'] == next_date]\n",
    "            target = next_data['transaction_qty'].values\n",
    "\n",
    "            self.data_tensor[i] = torch.tensor(data, dtype=torch.float)\n",
    "            self.target_tensor[i] = torch.tensor(target, dtype=torch.float)\n",
    "\n",
    "    def __len__(self):\n",
    "        return len(self.unique_dates) - self.days_per_batch\n",
    "\n",
    "    def __getitem__(self, idx):\n",
    "        sequence_data = self.data_tensor[idx:idx+self.days_per_batch]\n",
    "        sequence_target = self.target_tensor[idx+1:idx+self.days_per_batch+1]\n",
    "        return sequence_data, sequence_target\n",
    "\n",
    "# Ensure DataLoader is instantiated\n",
    "# Example:\n",
    "# train_dataloader = DataLoader(SalesDataset(train_df), batch_size=32, shuffle=True)\n",
    "# test_dataloader = DataLoader(SalesDataset(test_df), batch_size=32, shuffle=False)"
   ]
  },
  {
   "cell_type": "code",
   "execution_count": null,
   "metadata": {},
   "outputs": [
    {
     "ename": "RuntimeError",
     "evalue": "mat1 and mat2 shapes cannot be multiplied (78300x8 and 2088x512)",
     "output_type": "error",
     "traceback": [
      "\u001b[1;31m---------------------------------------------------------------------------\u001b[0m",
      "\u001b[1;31mRuntimeError\u001b[0m                              Traceback (most recent call last)",
      "Cell \u001b[1;32mIn[330], line 64\u001b[0m\n\u001b[0;32m     62\u001b[0m loss_function \u001b[38;5;241m=\u001b[39m nn\u001b[38;5;241m.\u001b[39mMSELoss()\n\u001b[0;32m     63\u001b[0m optimizer \u001b[38;5;241m=\u001b[39m torch\u001b[38;5;241m.\u001b[39moptim\u001b[38;5;241m.\u001b[39mAdam(model\u001b[38;5;241m.\u001b[39mparameters(), lr\u001b[38;5;241m=\u001b[39m\u001b[38;5;241m0.001\u001b[39m, weight_decay\u001b[38;5;241m=\u001b[39m\u001b[38;5;241m1e-4\u001b[39m)\n\u001b[1;32m---> 64\u001b[0m model, train_losses, test_losses \u001b[38;5;241m=\u001b[39m \u001b[43mmodel_fit\u001b[49m\u001b[43m(\u001b[49m\n\u001b[0;32m     65\u001b[0m \u001b[43m    \u001b[49m\u001b[43mmodel\u001b[49m\u001b[43m,\u001b[49m\u001b[43m \u001b[49m\u001b[43mloss_function\u001b[49m\u001b[43m,\u001b[49m\u001b[43m \u001b[49m\u001b[43moptimizer\u001b[49m\u001b[43m,\u001b[49m\u001b[43m \u001b[49m\u001b[43mtrain_dataloader\u001b[49m\u001b[43m,\u001b[49m\u001b[43m \u001b[49m\u001b[43mtest_dataloader\u001b[49m\u001b[43m,\u001b[49m\u001b[43m \u001b[49m\u001b[43mnum_epochs\u001b[49m\u001b[38;5;241;43m=\u001b[39;49m\u001b[38;5;241;43m200\u001b[39;49m\u001b[43m,\u001b[49m\u001b[43m \u001b[49m\u001b[43mcheckpoint\u001b[49m\u001b[38;5;241;43m=\u001b[39;49m\u001b[38;5;241;43m40\u001b[39;49m\u001b[43m)\u001b[49m\n\u001b[0;32m     66\u001b[0m plot_losses(train_losses, test_losses)\n",
      "Cell \u001b[1;32mIn[330], line 36\u001b[0m, in \u001b[0;36mmodel_fit\u001b[1;34m(model, criterion, optimizer, train_dataloader, test_dataloader, num_epochs, checkpoint)\u001b[0m\n\u001b[0;32m     34\u001b[0m test_losses \u001b[38;5;241m=\u001b[39m []\n\u001b[0;32m     35\u001b[0m \u001b[38;5;28;01mfor\u001b[39;00m epoch \u001b[38;5;129;01min\u001b[39;00m \u001b[38;5;28mrange\u001b[39m(num_epochs):\n\u001b[1;32m---> 36\u001b[0m     train_loss \u001b[38;5;241m=\u001b[39m \u001b[43mtrain_model\u001b[49m\u001b[43m(\u001b[49m\u001b[43mmodel\u001b[49m\u001b[43m,\u001b[49m\u001b[43m \u001b[49m\u001b[43mcriterion\u001b[49m\u001b[43m,\u001b[49m\u001b[43m \u001b[49m\u001b[43moptimizer\u001b[49m\u001b[43m,\u001b[49m\u001b[43m \u001b[49m\u001b[43mtrain_dataloader\u001b[49m\u001b[43m)\u001b[49m\n\u001b[0;32m     37\u001b[0m     test_loss \u001b[38;5;241m=\u001b[39m evaluate_model(model, criterion, test_dataloader)\n\u001b[0;32m     38\u001b[0m     train_losses\u001b[38;5;241m.\u001b[39mappend(train_loss)\n",
      "Cell \u001b[1;32mIn[330], line 10\u001b[0m, in \u001b[0;36mtrain_model\u001b[1;34m(model, criterion, optimizer, dataloader)\u001b[0m\n\u001b[0;32m      8\u001b[0m optimizer\u001b[38;5;241m.\u001b[39mzero_grad()\n\u001b[0;32m      9\u001b[0m \u001b[38;5;66;03m# Using data as both src and tgt for simplicity\u001b[39;00m\n\u001b[1;32m---> 10\u001b[0m output \u001b[38;5;241m=\u001b[39m \u001b[43mmodel\u001b[49m\u001b[43m(\u001b[49m\u001b[43mdata\u001b[49m\u001b[43m,\u001b[49m\u001b[43m \u001b[49m\u001b[43mdata\u001b[49m\u001b[43m)\u001b[49m\n\u001b[0;32m     11\u001b[0m loss \u001b[38;5;241m=\u001b[39m criterion(output, target)\n\u001b[0;32m     12\u001b[0m loss\u001b[38;5;241m.\u001b[39mbackward()\n",
      "File \u001b[1;32mc:\\Users\\Panamgama\\AppData\\Local\\Programs\\Python\\Python312\\Lib\\site-packages\\torch\\nn\\modules\\module.py:1532\u001b[0m, in \u001b[0;36mModule._wrapped_call_impl\u001b[1;34m(self, *args, **kwargs)\u001b[0m\n\u001b[0;32m   1530\u001b[0m     \u001b[38;5;28;01mreturn\u001b[39;00m \u001b[38;5;28mself\u001b[39m\u001b[38;5;241m.\u001b[39m_compiled_call_impl(\u001b[38;5;241m*\u001b[39margs, \u001b[38;5;241m*\u001b[39m\u001b[38;5;241m*\u001b[39mkwargs)  \u001b[38;5;66;03m# type: ignore[misc]\u001b[39;00m\n\u001b[0;32m   1531\u001b[0m \u001b[38;5;28;01melse\u001b[39;00m:\n\u001b[1;32m-> 1532\u001b[0m     \u001b[38;5;28;01mreturn\u001b[39;00m \u001b[38;5;28;43mself\u001b[39;49m\u001b[38;5;241;43m.\u001b[39;49m\u001b[43m_call_impl\u001b[49m\u001b[43m(\u001b[49m\u001b[38;5;241;43m*\u001b[39;49m\u001b[43margs\u001b[49m\u001b[43m,\u001b[49m\u001b[43m \u001b[49m\u001b[38;5;241;43m*\u001b[39;49m\u001b[38;5;241;43m*\u001b[39;49m\u001b[43mkwargs\u001b[49m\u001b[43m)\u001b[49m\n",
      "File \u001b[1;32mc:\\Users\\Panamgama\\AppData\\Local\\Programs\\Python\\Python312\\Lib\\site-packages\\torch\\nn\\modules\\module.py:1541\u001b[0m, in \u001b[0;36mModule._call_impl\u001b[1;34m(self, *args, **kwargs)\u001b[0m\n\u001b[0;32m   1536\u001b[0m \u001b[38;5;66;03m# If we don't have any hooks, we want to skip the rest of the logic in\u001b[39;00m\n\u001b[0;32m   1537\u001b[0m \u001b[38;5;66;03m# this function, and just call forward.\u001b[39;00m\n\u001b[0;32m   1538\u001b[0m \u001b[38;5;28;01mif\u001b[39;00m \u001b[38;5;129;01mnot\u001b[39;00m (\u001b[38;5;28mself\u001b[39m\u001b[38;5;241m.\u001b[39m_backward_hooks \u001b[38;5;129;01mor\u001b[39;00m \u001b[38;5;28mself\u001b[39m\u001b[38;5;241m.\u001b[39m_backward_pre_hooks \u001b[38;5;129;01mor\u001b[39;00m \u001b[38;5;28mself\u001b[39m\u001b[38;5;241m.\u001b[39m_forward_hooks \u001b[38;5;129;01mor\u001b[39;00m \u001b[38;5;28mself\u001b[39m\u001b[38;5;241m.\u001b[39m_forward_pre_hooks\n\u001b[0;32m   1539\u001b[0m         \u001b[38;5;129;01mor\u001b[39;00m _global_backward_pre_hooks \u001b[38;5;129;01mor\u001b[39;00m _global_backward_hooks\n\u001b[0;32m   1540\u001b[0m         \u001b[38;5;129;01mor\u001b[39;00m _global_forward_hooks \u001b[38;5;129;01mor\u001b[39;00m _global_forward_pre_hooks):\n\u001b[1;32m-> 1541\u001b[0m     \u001b[38;5;28;01mreturn\u001b[39;00m \u001b[43mforward_call\u001b[49m\u001b[43m(\u001b[49m\u001b[38;5;241;43m*\u001b[39;49m\u001b[43margs\u001b[49m\u001b[43m,\u001b[49m\u001b[43m \u001b[49m\u001b[38;5;241;43m*\u001b[39;49m\u001b[38;5;241;43m*\u001b[39;49m\u001b[43mkwargs\u001b[49m\u001b[43m)\u001b[49m\n\u001b[0;32m   1543\u001b[0m \u001b[38;5;28;01mtry\u001b[39;00m:\n\u001b[0;32m   1544\u001b[0m     result \u001b[38;5;241m=\u001b[39m \u001b[38;5;28;01mNone\u001b[39;00m\n",
      "Cell \u001b[1;32mIn[329], line 22\u001b[0m, in \u001b[0;36mTransformerModel.forward\u001b[1;34m(self, src, tgt)\u001b[0m\n\u001b[0;32m     20\u001b[0m \u001b[38;5;28;01mdef\u001b[39;00m \u001b[38;5;21mforward\u001b[39m(\u001b[38;5;28mself\u001b[39m, src, tgt):\n\u001b[0;32m     21\u001b[0m     \u001b[38;5;66;03m# Apply embedding and positional encoding\u001b[39;00m\n\u001b[1;32m---> 22\u001b[0m     src \u001b[38;5;241m=\u001b[39m \u001b[38;5;28;43mself\u001b[39;49m\u001b[38;5;241;43m.\u001b[39;49m\u001b[43membedding\u001b[49m\u001b[43m(\u001b[49m\n\u001b[0;32m     23\u001b[0m \u001b[43m        \u001b[49m\u001b[43msrc\u001b[49m\u001b[43m)\u001b[49m \u001b[38;5;241m*\u001b[39m torch\u001b[38;5;241m.\u001b[39msqrt(torch\u001b[38;5;241m.\u001b[39mtensor(\u001b[38;5;28mself\u001b[39m\u001b[38;5;241m.\u001b[39md_model, dtype\u001b[38;5;241m=\u001b[39mtorch\u001b[38;5;241m.\u001b[39mfloat32))\n\u001b[0;32m     24\u001b[0m     tgt \u001b[38;5;241m=\u001b[39m \u001b[38;5;28mself\u001b[39m\u001b[38;5;241m.\u001b[39membedding(\n\u001b[0;32m     25\u001b[0m         tgt) \u001b[38;5;241m*\u001b[39m torch\u001b[38;5;241m.\u001b[39msqrt(torch\u001b[38;5;241m.\u001b[39mtensor(\u001b[38;5;28mself\u001b[39m\u001b[38;5;241m.\u001b[39md_model, dtype\u001b[38;5;241m=\u001b[39mtorch\u001b[38;5;241m.\u001b[39mfloat32))\n\u001b[0;32m     27\u001b[0m     src \u001b[38;5;241m=\u001b[39m \u001b[38;5;28mself\u001b[39m\u001b[38;5;241m.\u001b[39mpositional_encoding(src)\n",
      "File \u001b[1;32mc:\\Users\\Panamgama\\AppData\\Local\\Programs\\Python\\Python312\\Lib\\site-packages\\torch\\nn\\modules\\module.py:1532\u001b[0m, in \u001b[0;36mModule._wrapped_call_impl\u001b[1;34m(self, *args, **kwargs)\u001b[0m\n\u001b[0;32m   1530\u001b[0m     \u001b[38;5;28;01mreturn\u001b[39;00m \u001b[38;5;28mself\u001b[39m\u001b[38;5;241m.\u001b[39m_compiled_call_impl(\u001b[38;5;241m*\u001b[39margs, \u001b[38;5;241m*\u001b[39m\u001b[38;5;241m*\u001b[39mkwargs)  \u001b[38;5;66;03m# type: ignore[misc]\u001b[39;00m\n\u001b[0;32m   1531\u001b[0m \u001b[38;5;28;01melse\u001b[39;00m:\n\u001b[1;32m-> 1532\u001b[0m     \u001b[38;5;28;01mreturn\u001b[39;00m \u001b[38;5;28;43mself\u001b[39;49m\u001b[38;5;241;43m.\u001b[39;49m\u001b[43m_call_impl\u001b[49m\u001b[43m(\u001b[49m\u001b[38;5;241;43m*\u001b[39;49m\u001b[43margs\u001b[49m\u001b[43m,\u001b[49m\u001b[43m \u001b[49m\u001b[38;5;241;43m*\u001b[39;49m\u001b[38;5;241;43m*\u001b[39;49m\u001b[43mkwargs\u001b[49m\u001b[43m)\u001b[49m\n",
      "File \u001b[1;32mc:\\Users\\Panamgama\\AppData\\Local\\Programs\\Python\\Python312\\Lib\\site-packages\\torch\\nn\\modules\\module.py:1541\u001b[0m, in \u001b[0;36mModule._call_impl\u001b[1;34m(self, *args, **kwargs)\u001b[0m\n\u001b[0;32m   1536\u001b[0m \u001b[38;5;66;03m# If we don't have any hooks, we want to skip the rest of the logic in\u001b[39;00m\n\u001b[0;32m   1537\u001b[0m \u001b[38;5;66;03m# this function, and just call forward.\u001b[39;00m\n\u001b[0;32m   1538\u001b[0m \u001b[38;5;28;01mif\u001b[39;00m \u001b[38;5;129;01mnot\u001b[39;00m (\u001b[38;5;28mself\u001b[39m\u001b[38;5;241m.\u001b[39m_backward_hooks \u001b[38;5;129;01mor\u001b[39;00m \u001b[38;5;28mself\u001b[39m\u001b[38;5;241m.\u001b[39m_backward_pre_hooks \u001b[38;5;129;01mor\u001b[39;00m \u001b[38;5;28mself\u001b[39m\u001b[38;5;241m.\u001b[39m_forward_hooks \u001b[38;5;129;01mor\u001b[39;00m \u001b[38;5;28mself\u001b[39m\u001b[38;5;241m.\u001b[39m_forward_pre_hooks\n\u001b[0;32m   1539\u001b[0m         \u001b[38;5;129;01mor\u001b[39;00m _global_backward_pre_hooks \u001b[38;5;129;01mor\u001b[39;00m _global_backward_hooks\n\u001b[0;32m   1540\u001b[0m         \u001b[38;5;129;01mor\u001b[39;00m _global_forward_hooks \u001b[38;5;129;01mor\u001b[39;00m _global_forward_pre_hooks):\n\u001b[1;32m-> 1541\u001b[0m     \u001b[38;5;28;01mreturn\u001b[39;00m \u001b[43mforward_call\u001b[49m\u001b[43m(\u001b[49m\u001b[38;5;241;43m*\u001b[39;49m\u001b[43margs\u001b[49m\u001b[43m,\u001b[49m\u001b[43m \u001b[49m\u001b[38;5;241;43m*\u001b[39;49m\u001b[38;5;241;43m*\u001b[39;49m\u001b[43mkwargs\u001b[49m\u001b[43m)\u001b[49m\n\u001b[0;32m   1543\u001b[0m \u001b[38;5;28;01mtry\u001b[39;00m:\n\u001b[0;32m   1544\u001b[0m     result \u001b[38;5;241m=\u001b[39m \u001b[38;5;28;01mNone\u001b[39;00m\n",
      "File \u001b[1;32mc:\\Users\\Panamgama\\AppData\\Local\\Programs\\Python\\Python312\\Lib\\site-packages\\torch\\nn\\modules\\linear.py:116\u001b[0m, in \u001b[0;36mLinear.forward\u001b[1;34m(self, input)\u001b[0m\n\u001b[0;32m    115\u001b[0m \u001b[38;5;28;01mdef\u001b[39;00m \u001b[38;5;21mforward\u001b[39m(\u001b[38;5;28mself\u001b[39m, \u001b[38;5;28minput\u001b[39m: Tensor) \u001b[38;5;241m-\u001b[39m\u001b[38;5;241m>\u001b[39m Tensor:\n\u001b[1;32m--> 116\u001b[0m     \u001b[38;5;28;01mreturn\u001b[39;00m \u001b[43mF\u001b[49m\u001b[38;5;241;43m.\u001b[39;49m\u001b[43mlinear\u001b[49m\u001b[43m(\u001b[49m\u001b[38;5;28;43minput\u001b[39;49m\u001b[43m,\u001b[49m\u001b[43m \u001b[49m\u001b[38;5;28;43mself\u001b[39;49m\u001b[38;5;241;43m.\u001b[39;49m\u001b[43mweight\u001b[49m\u001b[43m,\u001b[49m\u001b[43m \u001b[49m\u001b[38;5;28;43mself\u001b[39;49m\u001b[38;5;241;43m.\u001b[39;49m\u001b[43mbias\u001b[49m\u001b[43m)\u001b[49m\n",
      "\u001b[1;31mRuntimeError\u001b[0m: mat1 and mat2 shapes cannot be multiplied (78300x8 and 2088x512)"
     ]
    }
   ],
   "source": [
    "import matplotlib.pyplot as plt\n",
    "\n",
    "\n",
    "def train_model(model, criterion, optimizer, dataloader):\n",
    "    model.train()\n",
    "    total_loss = 0\n",
    "    for data, target in dataloader:\n",
    "        optimizer.zero_grad()\n",
    "        # Using data as both src and tgt for simplicity\n",
    "        output = model(data, data)\n",
    "        loss = criterion(output, target)\n",
    "        loss.backward()\n",
    "        optimizer.step()\n",
    "        total_loss += loss.item()\n",
    "    return total_loss / len(dataloader)\n",
    "\n",
    "\n",
    "def evaluate_model(model, criterion, dataloader):\n",
    "    model.eval()\n",
    "    total_loss = 0\n",
    "    with torch.no_grad():\n",
    "        for data, target in dataloader:\n",
    "            # Using data as both src and tgt for simplicity\n",
    "            output = model(data, data)\n",
    "            loss = criterion(output, target)\n",
    "            total_loss += loss.item()\n",
    "    return total_loss / len(dataloader)\n",
    "\n",
    "# Example model fitting function\n",
    "\n",
    "\n",
    "def model_fit(model, criterion, optimizer, train_dataloader, test_dataloader, num_epochs, checkpoint):\n",
    "    train_losses = []\n",
    "    test_losses = []\n",
    "    for epoch in range(num_epochs):\n",
    "        train_loss = train_model(model, criterion, optimizer, train_dataloader)\n",
    "        test_loss = evaluate_model(model, criterion, test_dataloader)\n",
    "        train_losses.append(train_loss)\n",
    "        test_losses.append(test_loss)\n",
    "        if epoch % checkpoint == 0:\n",
    "            print(f'Epoch {epoch}, Train Loss: {\n",
    "                  train_loss:.4f}, Test Loss: {test_loss:.4f}')\n",
    "    return model, train_losses, test_losses\n",
    "\n",
    "\n",
    "# Plotting function\n",
    "\n",
    "\n",
    "def plot_losses(train_losses, test_losses):\n",
    "    plt.figure(figsize=(10, 6))\n",
    "    plt.plot(train_losses, label='Train Loss')\n",
    "    plt.plot(test_losses, label='Test Loss')\n",
    "    plt.xlabel('Epoch')\n",
    "    plt.ylabel('Loss')\n",
    "    plt.title('Losses')\n",
    "    plt.legend()\n",
    "    plt.show()\n",
    "\n",
    "\n",
    "# Example usage\n",
    "model = TransformerModel()\n",
    "loss_function = nn.MSELoss()\n",
    "optimizer = torch.optim.Adam(model.parameters(), lr=0.001, weight_decay=1e-4)\n",
    "model, train_losses, test_losses = model_fit(\n",
    "    model, loss_function, optimizer, train_dataloader, test_dataloader, num_epochs=200, checkpoint=40)\n",
    "plot_losses(train_losses, test_losses)"
   ]
  },
  {
   "cell_type": "code",
   "execution_count": null,
   "metadata": {},
   "outputs": [],
   "source": []
  }
 ],
 "metadata": {
  "kernelspec": {
   "display_name": "Python 3",
   "language": "python",
   "name": "python3"
  },
  "language_info": {
   "codemirror_mode": {
    "name": "ipython",
    "version": 3
   },
   "file_extension": ".py",
   "mimetype": "text/x-python",
   "name": "python",
   "nbconvert_exporter": "python",
   "pygments_lexer": "ipython3",
   "version": "3.12.1"
  }
 },
 "nbformat": 4,
 "nbformat_minor": 2
}
