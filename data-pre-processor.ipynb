{
 "cells": [
  {
   "cell_type": "code",
   "execution_count": 53,
   "metadata": {},
   "outputs": [],
   "source": [
    "import pandas as pd"
   ]
  },
  {
   "cell_type": "code",
   "execution_count": 54,
   "metadata": {},
   "outputs": [
    {
     "name": "stdout",
     "output_type": "stream",
     "text": [
      "   transaction_id transaction_date transaction_time  transaction_qty store_id  \\\n",
      "0               1       2024-01-01         07:06:11                2      ST2   \n",
      "1               2       2024-01-01         07:08:56                2      ST2   \n",
      "2               3       2024-01-01         07:14:04                2      ST2   \n",
      "3               4       2024-01-01         07:20:24                1      ST2   \n",
      "4               5       2024-01-01         07:22:41                2      ST2   \n",
      "\n",
      "   product_id  unit_price  \n",
      "0          32         3.0  \n",
      "1          57         3.1  \n",
      "2          59         4.5  \n",
      "3          22         2.0  \n",
      "4          57         3.1  \n"
     ]
    }
   ],
   "source": [
    "df = pd.read_csv('historical_data.csv')\n",
    "print(df.head(5))"
   ]
  },
  {
   "cell_type": "code",
   "execution_count": 55,
   "metadata": {},
   "outputs": [],
   "source": [
    "# Assuming 'transaction_date' is the column with the dates\n",
    "df['transaction_date'] = pd.to_datetime(\n",
    "    df['transaction_date'], format='%Y-%m-%d')\n",
    "\n",
    "# Create new feature column 'day_of_week'\n",
    "df['day_of_week'] = df['transaction_date'].dt.dayofweek\n",
    "df.to_csv('with_day_numbers.csv', index=False)"
   ]
  },
  {
   "cell_type": "code",
   "execution_count": 56,
   "metadata": {},
   "outputs": [
    {
     "name": "stdout",
     "output_type": "stream",
     "text": [
      "    store_id  product_id\n",
      "0        ST1           1\n",
      "1        ST1           2\n",
      "2        ST1           3\n",
      "3        ST1           4\n",
      "4        ST1           5\n",
      "..       ...         ...\n",
      "234      ST3          81\n",
      "235      ST3          82\n",
      "236      ST3          83\n",
      "237      ST3          84\n",
      "238      ST3          87\n",
      "\n",
      "[239 rows x 2 columns]\n"
     ]
    }
   ],
   "source": [
    "unique_records = df[['store_id', 'product_id']].drop_duplicates().sort_values(['store_id', 'product_id']).reset_index(drop=True)\n",
    "print(unique_records[:])\n",
    "unique_records.to_csv('sorted.csv', index=False)"
   ]
  },
  {
   "cell_type": "code",
   "execution_count": 57,
   "metadata": {},
   "outputs": [],
   "source": [
    "# grouped_by_day = df.groupby(['store_id', 'product_id', 'transaction_date']).sum(\n",
    "#     \"transaction_qty\")\n",
    "# grouped_by_day.to_csv('grouped.csv', index=False)"
   ]
  },
  {
   "cell_type": "code",
   "execution_count": 60,
   "metadata": {},
   "outputs": [],
   "source": [
    "grouped_by_day_2 = df.groupby(['store_id', 'product_id', 'transaction_date']).agg({\n",
    "    \"transaction_qty\": \"sum\",\n",
    "    \"transaction_id\": list\n",
    "}).reset_index()\n",
    "\n",
    "grouped_by_day_2.to_csv('grouped_2.csv', index=False)"
   ]
  },
  {
   "cell_type": "code",
   "execution_count": 61,
   "metadata": {},
   "outputs": [
    {
     "name": "stdout",
     "output_type": "stream",
     "text": [
      "      store_id  product_id transaction_date  transaction_qty  \\\n",
      "10608      ST2          32       2024-01-01                4   \n",
      "10609      ST2          32       2024-01-02                8   \n",
      "10610      ST2          32       2024-01-03                4   \n",
      "10611      ST2          32       2024-01-05                2   \n",
      "10612      ST2          32       2024-01-06                4   \n",
      "...        ...         ...              ...              ...   \n",
      "10752      ST2          32       2024-05-27                6   \n",
      "10753      ST2          32       2024-05-28               14   \n",
      "10754      ST2          32       2024-05-29                4   \n",
      "10755      ST2          32       2024-05-30               14   \n",
      "10756      ST2          32       2024-05-31               14   \n",
      "\n",
      "                                          transaction_id  \n",
      "10608                                            [1, 84]  \n",
      "10609                               [589, 794, 977, 999]  \n",
      "10610                                 [1135, 1445, 1545]  \n",
      "10611                                       [2376, 2591]  \n",
      "10612                                       [2878, 3006]  \n",
      "...                                                  ...  \n",
      "10752                   [108940, 108981, 109543, 109861]  \n",
      "10753  [110333, 110654, 110747, 110798, 110882, 11088...  \n",
      "10754                                   [111333, 111848]  \n",
      "10755  [112131, 112468, 112495, 112607, 112629, 11265...  \n",
      "10756  [113269, 113339, 113445, 113491, 113639, 11373...  \n",
      "\n",
      "[149 rows x 5 columns]\n"
     ]
    }
   ],
   "source": [
    "unique_pairs = df[['store_id', 'product_id']].drop_duplicates().values\n",
    "\n",
    "for pair in unique_pairs:\n",
    "    store_id, product_id = pair\n",
    "    records = grouped_by_day_2[(grouped_by_day_2['store_id'] == store_id) & (\n",
    "        grouped_by_day_2['product_id'] == product_id)]\n",
    "    print(records)\n",
    "    records.to_csv('record_1.csv', index=False)\n",
    "    # insert data to model here\n",
    "    break\n",
    "    # print(store_id, product_id)\n",
    "    # print(records.loc[:, ['transaction_qty']])\n",
    "    # Now 'records' is a DataFrame containing all records for the current 'store_id', 'product_id' pair\n",
    "    # You can now convert 'records' into a suitable format and feed it into your RNN"
   ]
  },
  {
   "cell_type": "code",
   "execution_count": null,
   "metadata": {},
   "outputs": [],
   "source": []
  },
  {
   "cell_type": "code",
   "execution_count": null,
   "metadata": {},
   "outputs": [],
   "source": []
  }
 ],
 "metadata": {
  "kernelspec": {
   "display_name": "Python 3",
   "language": "python",
   "name": "python3"
  },
  "language_info": {
   "codemirror_mode": {
    "name": "ipython",
    "version": 3
   },
   "file_extension": ".py",
   "mimetype": "text/x-python",
   "name": "python",
   "nbconvert_exporter": "python",
   "pygments_lexer": "ipython3",
   "version": "3.12.1"
  }
 },
 "nbformat": 4,
 "nbformat_minor": 2
}
