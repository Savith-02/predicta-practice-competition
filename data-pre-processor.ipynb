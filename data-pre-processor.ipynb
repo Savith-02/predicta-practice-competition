{
 "cells": [
  {
   "cell_type": "code",
   "execution_count": 132,
   "metadata": {},
   "outputs": [],
   "source": [
    "import pandas as pd"
   ]
  },
  {
   "cell_type": "code",
   "execution_count": 133,
   "metadata": {},
   "outputs": [
    {
     "name": "stdout",
     "output_type": "stream",
     "text": [
      "   transaction_id transaction_date transaction_time  transaction_qty store_id  \\\n",
      "0               1       2024-01-01         07:06:11                2      ST2   \n",
      "1               2       2024-01-01         07:08:56                2      ST2   \n",
      "2               3       2024-01-01         07:14:04                2      ST2   \n",
      "\n",
      "   product_id  unit_price  \n",
      "0          32         3.0  \n",
      "1          57         3.1  \n",
      "2          59         4.5  \n"
     ]
    }
   ],
   "source": [
    "df = pd.read_csv('historical_data.csv')\n",
    "print(df.head(3))"
   ]
  },
  {
   "cell_type": "code",
   "execution_count": 134,
   "metadata": {},
   "outputs": [],
   "source": [
    "df['transaction_date'] = pd.to_datetime(\n",
    "    df['transaction_date'], format='%Y-%m-%d')"
   ]
  },
  {
   "cell_type": "code",
   "execution_count": 135,
   "metadata": {},
   "outputs": [],
   "source": [
    "qunatity_sum_df = df.groupby(['store_id', 'product_id', 'transaction_date']).agg({\n",
    "    \"transaction_qty\": \"sum\"}).reset_index()\n",
    "qunatity_sum_df.to_csv('quantity_sum.csv', index=False)"
   ]
  },
  {
   "cell_type": "code",
   "execution_count": 136,
   "metadata": {},
   "outputs": [],
   "source": [
    "quntity_sum_sorted_by_date_df = qunatity_sum_df.sort_values(['transaction_date', 'store_id', 'product_id']).reset_index(drop=True)\n",
    "quntity_sum_sorted_by_date_df = quntity_sum_sorted_by_date_df.reindex(\n",
    "    ['transaction_date', 'store_id', 'product_id', 'transaction_qty'], axis=1)\n",
    "quntity_sum_sorted_by_date_df.to_csv('quntity_sum_sorted_by_date.csv', index=False)"
   ]
  },
  {
   "cell_type": "code",
   "execution_count": 137,
   "metadata": {},
   "outputs": [],
   "source": [
    "# Create a DataFrame with all combinations of dates, store-ids, and product_ids\n",
    "all_combinations = pd.DataFrame(\n",
    "    index=pd.MultiIndex.from_product([\n",
    "        pd.date_range(start='2024-01-01', end='2024-05-31'),\n",
    "        ['ST1', 'ST2', 'ST3'],\n",
    "        range(1, 88)  # product_ids from 1 to 87\n",
    "    ], names=['transaction_date', 'store_id', 'product_id'])\n",
    ").reset_index()"
   ]
  },
  {
   "cell_type": "code",
   "execution_count": 138,
   "metadata": {},
   "outputs": [],
   "source": [
    "# Merge with the original DataFrame\n",
    "quntity_sum_sorted_by_date_complete_df = pd.merge(\n",
    "    all_combinations,\n",
    "    quntity_sum_sorted_by_date_df,\n",
    "    on=['transaction_date', 'store_id', 'product_id'],\n",
    "    how='left'\n",
    ")\n",
    "\n",
    "# Fill missing values\n",
    "quntity_sum_sorted_by_date_complete_df['transaction_qty'].fillna(\n",
    "    0, inplace=True)\n",
    "# merged_df['transaction_id'].apply(lambda x: [] if pd.isnull(x) else x)\n"
   ]
  },
  {
   "cell_type": "code",
   "execution_count": 139,
   "metadata": {},
   "outputs": [
    {
     "data": {
      "text/html": [
       "<div>\n",
       "<style scoped>\n",
       "    .dataframe tbody tr th:only-of-type {\n",
       "        vertical-align: middle;\n",
       "    }\n",
       "\n",
       "    .dataframe tbody tr th {\n",
       "        vertical-align: top;\n",
       "    }\n",
       "\n",
       "    .dataframe thead th {\n",
       "        text-align: right;\n",
       "    }\n",
       "</style>\n",
       "<table border=\"1\" class=\"dataframe\">\n",
       "  <thead>\n",
       "    <tr style=\"text-align: right;\">\n",
       "      <th></th>\n",
       "      <th>transaction_date</th>\n",
       "      <th>store_id</th>\n",
       "      <th>product_id</th>\n",
       "    </tr>\n",
       "  </thead>\n",
       "  <tbody>\n",
       "    <tr>\n",
       "      <th>0</th>\n",
       "      <td>2024-01-01</td>\n",
       "      <td>ST1</td>\n",
       "      <td>1</td>\n",
       "    </tr>\n",
       "    <tr>\n",
       "      <th>1</th>\n",
       "      <td>2024-01-01</td>\n",
       "      <td>ST1</td>\n",
       "      <td>2</td>\n",
       "    </tr>\n",
       "    <tr>\n",
       "      <th>2</th>\n",
       "      <td>2024-01-01</td>\n",
       "      <td>ST1</td>\n",
       "      <td>3</td>\n",
       "    </tr>\n",
       "    <tr>\n",
       "      <th>3</th>\n",
       "      <td>2024-01-01</td>\n",
       "      <td>ST1</td>\n",
       "      <td>4</td>\n",
       "    </tr>\n",
       "    <tr>\n",
       "      <th>4</th>\n",
       "      <td>2024-01-01</td>\n",
       "      <td>ST1</td>\n",
       "      <td>5</td>\n",
       "    </tr>\n",
       "    <tr>\n",
       "      <th>...</th>\n",
       "      <td>...</td>\n",
       "      <td>...</td>\n",
       "      <td>...</td>\n",
       "    </tr>\n",
       "    <tr>\n",
       "      <th>39667</th>\n",
       "      <td>2024-05-31</td>\n",
       "      <td>ST3</td>\n",
       "      <td>83</td>\n",
       "    </tr>\n",
       "    <tr>\n",
       "      <th>39668</th>\n",
       "      <td>2024-05-31</td>\n",
       "      <td>ST3</td>\n",
       "      <td>84</td>\n",
       "    </tr>\n",
       "    <tr>\n",
       "      <th>39669</th>\n",
       "      <td>2024-05-31</td>\n",
       "      <td>ST3</td>\n",
       "      <td>85</td>\n",
       "    </tr>\n",
       "    <tr>\n",
       "      <th>39670</th>\n",
       "      <td>2024-05-31</td>\n",
       "      <td>ST3</td>\n",
       "      <td>86</td>\n",
       "    </tr>\n",
       "    <tr>\n",
       "      <th>39671</th>\n",
       "      <td>2024-05-31</td>\n",
       "      <td>ST3</td>\n",
       "      <td>87</td>\n",
       "    </tr>\n",
       "  </tbody>\n",
       "</table>\n",
       "<p>39672 rows × 3 columns</p>\n",
       "</div>"
      ],
      "text/plain": [
       "      transaction_date store_id  product_id\n",
       "0           2024-01-01      ST1           1\n",
       "1           2024-01-01      ST1           2\n",
       "2           2024-01-01      ST1           3\n",
       "3           2024-01-01      ST1           4\n",
       "4           2024-01-01      ST1           5\n",
       "...                ...      ...         ...\n",
       "39667       2024-05-31      ST3          83\n",
       "39668       2024-05-31      ST3          84\n",
       "39669       2024-05-31      ST3          85\n",
       "39670       2024-05-31      ST3          86\n",
       "39671       2024-05-31      ST3          87\n",
       "\n",
       "[39672 rows x 3 columns]"
      ]
     },
     "execution_count": 139,
     "metadata": {},
     "output_type": "execute_result"
    }
   ],
   "source": [
    "all_combinations"
   ]
  },
  {
   "cell_type": "code",
   "execution_count": 169,
   "metadata": {},
   "outputs": [
    {
     "name": "stdout",
     "output_type": "stream",
     "text": [
      "  transaction_date store_id  product_id  transaction_qty  day_of_week\n",
      "0       2024-01-01      ST1           1              0.0            0\n",
      "1       2024-01-01      ST1           2              0.0            0\n",
      "2       2024-01-01      ST1           3              0.0            0\n",
      "  transaction_date  store_id  product_id  transaction_qty  day_of_week\n",
      "0       2024-01-01         1           1              0.0            0\n",
      "1       2024-01-01         1           2              0.0            0\n",
      "2       2024-01-01         1           3              0.0            0\n"
     ]
    }
   ],
   "source": [
    "# Create new feature column 'day_of_week'\n",
    "quntity_sum_sorted_by_date_complete_df['day_of_week'] = quntity_sum_sorted_by_date_complete_df['transaction_date'].dt.dayofweek\n",
    "print(quntity_sum_sorted_by_date_complete_df.head(3))\n",
    "quntity_sum_sorted_by_date_complete_df['store_id'] = quntity_sum_sorted_by_date_complete_df['store_id'].apply(\n",
    "    lambda x: int(x[2:]))\n",
    "print(quntity_sum_sorted_by_date_complete_df.head(3))\n",
    "quntity_sum_sorted_by_date_complete_df.to_csv(\n",
    "    'quntity_sum_sorted_by_date_complete.csv', index=False)"
   ]
  },
  {
   "cell_type": "code",
   "execution_count": 141,
   "metadata": {},
   "outputs": [],
   "source": [
    "# unique_records = df[['store_id', 'product_id']].drop_duplicates().sort_values(['store_id', 'product_id']).reset_index(drop=True)\n",
    "# print(unique_records[:])\n",
    "# unique_records.to_csv('sorted.csv', index=False)"
   ]
  },
  {
   "cell_type": "code",
   "execution_count": 142,
   "metadata": {},
   "outputs": [],
   "source": [
    "# grouped_by_day = df.groupby(['store_id', 'product_id', 'transaction_date']).sum(\n",
    "#     \"transaction_qty\")\n",
    "# grouped_by_day.to_csv('grouped.csv', index=False)"
   ]
  },
  {
   "cell_type": "code",
   "execution_count": 143,
   "metadata": {},
   "outputs": [],
   "source": [
    "# grouped_by_day_2 = df.groupby(['transaction_date', 'store_id', 'product_id' ]).agg({\n",
    "#     \"transaction_qty\": \"sum\",\n",
    "#     \"transaction_id\": list\n",
    "# }).reset_index()\n",
    "\n",
    "# grouped_by_day_2.to_csv('grouped_2.csv', index=False)"
   ]
  }
 ],
 "metadata": {
  "kernelspec": {
   "display_name": "Python 3",
   "language": "python",
   "name": "python3"
  },
  "language_info": {
   "codemirror_mode": {
    "name": "ipython",
    "version": 3
   },
   "file_extension": ".py",
   "mimetype": "text/x-python",
   "name": "python",
   "nbconvert_exporter": "python",
   "pygments_lexer": "ipython3",
   "version": "3.12.1"
  }
 },
 "nbformat": 4,
 "nbformat_minor": 2
}
