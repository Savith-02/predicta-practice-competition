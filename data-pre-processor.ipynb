{
 "cells": [
  {
   "cell_type": "code",
   "execution_count": 132,
   "metadata": {},
   "outputs": [],
   "source": [
    "import pandas as pd"
   ]
  },
  {
   "cell_type": "code",
   "execution_count": 133,
   "metadata": {},
   "outputs": [
    {
     "name": "stdout",
     "output_type": "stream",
     "text": [
      "   transaction_id transaction_date transaction_time  transaction_qty store_id  \\\n",
      "0               1       2024-01-01         07:06:11                2      ST2   \n",
      "1               2       2024-01-01         07:08:56                2      ST2   \n",
      "2               3       2024-01-01         07:14:04                2      ST2   \n",
      "\n",
      "   product_id  unit_price  \n",
      "0          32         3.0  \n",
      "1          57         3.1  \n",
      "2          59         4.5  \n"
     ]
    }
   ],
   "source": [
    "df = pd.read_csv('historical_data.csv')\n",
    "print(df.head(3))"
   ]
  },
  {
   "cell_type": "code",
   "execution_count": 134,
   "metadata": {},
   "outputs": [],
   "source": [
    "df['transaction_date'] = pd.to_datetime(\n",
    "    df['transaction_date'], format='%Y-%m-%d')"
   ]
  },
  {
   "cell_type": "code",
   "execution_count": 135,
   "metadata": {},
   "outputs": [],
   "source": [
    "qunatity_sum_df = df.groupby(['store_id', 'product_id', 'transaction_date']).agg({\n",
    "    \"transaction_qty\": \"sum\"}).reset_index()\n",
    "qunatity_sum_df.to_csv('quantity_sum.csv', index=False)"
   ]
  },
  {
   "cell_type": "code",
   "execution_count": 136,
   "metadata": {},
   "outputs": [],
   "source": [
    "quntity_sum_sorted_by_date_df = qunatity_sum_df.sort_values(['transaction_date', 'store_id', 'product_id']).reset_index(drop=True)\n",
    "quntity_sum_sorted_by_date_df = quntity_sum_sorted_by_date_df.reindex(\n",
    "    ['transaction_date', 'store_id', 'product_id', 'transaction_qty'], axis=1)\n",
    "quntity_sum_sorted_by_date_df.to_csv('quntity_sum_sorted_by_date.csv', index=False)"
   ]
  },
  {
   "cell_type": "code",
   "execution_count": 137,
   "metadata": {},
   "outputs": [],
   "source": [
    "# Create a DataFrame with all combinations of dates, store-ids, and product_ids\n",
    "all_combinations = pd.DataFrame(\n",
    "    index=pd.MultiIndex.from_product([\n",
    "        pd.date_range(start='2024-01-01', end='2024-05-31'),\n",
    "        ['ST1', 'ST2', 'ST3'],\n",
    "        range(1, 88)  # product_ids from 1 to 87\n",
    "    ], names=['transaction_date', 'store_id', 'product_id'])\n",
    ").reset_index()"
   ]
  },
  {
   "cell_type": "code",
   "execution_count": 138,
   "metadata": {},
   "outputs": [],
   "source": [
    "# Merge with the original DataFrame\n",
    "quntity_sum_sorted_by_date_complete_df = pd.merge(\n",
    "    all_combinations,\n",
    "    quntity_sum_sorted_by_date_df,\n",
    "    on=['transaction_date', 'store_id', 'product_id'],\n",
    "    how='left'\n",
    ")\n",
    "\n",
    "# Fill missing values\n",
    "quntity_sum_sorted_by_date_complete_df['transaction_qty'].fillna(\n",
    "    0, inplace=True)\n",
    "# merged_df['transaction_id'].apply(lambda x: [] if pd.isnull(x) else x)\n"
   ]
  },
  {
   "cell_type": "code",
   "execution_count": 139,
   "metadata": {},
   "outputs": [
    {
     "data": {
      "text/html": [
       "<div>\n",
       "<style scoped>\n",
       "    .dataframe tbody tr th:only-of-type {\n",
       "        vertical-align: middle;\n",
       "    }\n",
       "\n",
       "    .dataframe tbody tr th {\n",
       "        vertical-align: top;\n",
       "    }\n",
       "\n",
       "    .dataframe thead th {\n",
       "        text-align: right;\n",
       "    }\n",
       "</style>\n",
       "<table border=\"1\" class=\"dataframe\">\n",
       "  <thead>\n",
       "    <tr style=\"text-align: right;\">\n",
       "      <th></th>\n",
       "      <th>transaction_date</th>\n",
       "      <th>store_id</th>\n",
       "      <th>product_id</th>\n",
       "    </tr>\n",
       "  </thead>\n",
       "  <tbody>\n",
       "    <tr>\n",
       "      <th>0</th>\n",
       "      <td>2024-01-01</td>\n",
       "      <td>ST1</td>\n",
       "      <td>1</td>\n",
       "    </tr>\n",
       "    <tr>\n",
       "      <th>1</th>\n",
       "      <td>2024-01-01</td>\n",
       "      <td>ST1</td>\n",
       "      <td>2</td>\n",
       "    </tr>\n",
       "    <tr>\n",
       "      <th>2</th>\n",
       "      <td>2024-01-01</td>\n",
       "      <td>ST1</td>\n",
       "      <td>3</td>\n",
       "    </tr>\n",
       "    <tr>\n",
       "      <th>3</th>\n",
       "      <td>2024-01-01</td>\n",
       "      <td>ST1</td>\n",
       "      <td>4</td>\n",
       "    </tr>\n",
       "    <tr>\n",
       "      <th>4</th>\n",
       "      <td>2024-01-01</td>\n",
       "      <td>ST1</td>\n",
       "      <td>5</td>\n",
       "    </tr>\n",
       "    <tr>\n",
       "      <th>...</th>\n",
       "      <td>...</td>\n",
       "      <td>...</td>\n",
       "      <td>...</td>\n",
       "    </tr>\n",
       "    <tr>\n",
       "      <th>39667</th>\n",
       "      <td>2024-05-31</td>\n",
       "      <td>ST3</td>\n",
       "      <td>83</td>\n",
       "    </tr>\n",
       "    <tr>\n",
       "      <th>39668</th>\n",
       "      <td>2024-05-31</td>\n",
       "      <td>ST3</td>\n",
       "      <td>84</td>\n",
       "    </tr>\n",
       "    <tr>\n",
       "      <th>39669</th>\n",
       "      <td>2024-05-31</td>\n",
       "      <td>ST3</td>\n",
       "      <td>85</td>\n",
       "    </tr>\n",
       "    <tr>\n",
       "      <th>39670</th>\n",
       "      <td>2024-05-31</td>\n",
       "      <td>ST3</td>\n",
       "      <td>86</td>\n",
       "    </tr>\n",
       "    <tr>\n",
       "      <th>39671</th>\n",
       "      <td>2024-05-31</td>\n",
       "      <td>ST3</td>\n",
       "      <td>87</td>\n",
       "    </tr>\n",
       "  </tbody>\n",
       "</table>\n",
       "<p>39672 rows × 3 columns</p>\n",
       "</div>"
      ],
      "text/plain": [
       "      transaction_date store_id  product_id\n",
       "0           2024-01-01      ST1           1\n",
       "1           2024-01-01      ST1           2\n",
       "2           2024-01-01      ST1           3\n",
       "3           2024-01-01      ST1           4\n",
       "4           2024-01-01      ST1           5\n",
       "...                ...      ...         ...\n",
       "39667       2024-05-31      ST3          83\n",
       "39668       2024-05-31      ST3          84\n",
       "39669       2024-05-31      ST3          85\n",
       "39670       2024-05-31      ST3          86\n",
       "39671       2024-05-31      ST3          87\n",
       "\n",
       "[39672 rows x 3 columns]"
      ]
     },
     "execution_count": 139,
     "metadata": {},
     "output_type": "execute_result"
    }
   ],
   "source": [
    "all_combinations"
   ]
  },
  {
   "cell_type": "code",
   "execution_count": 140,
   "metadata": {},
   "outputs": [
    {
     "name": "stdout",
     "output_type": "stream",
     "text": [
      "  transaction_date store_id  product_id  transaction_qty  day_of_week\n",
      "0       2024-01-01      ST1           1              0.0            0\n",
      "1       2024-01-01      ST1           2              0.0            0\n",
      "2       2024-01-01      ST1           3              0.0            0\n"
     ]
    }
   ],
   "source": [
    "# Create new feature column 'day_of_week'\n",
    "quntity_sum_sorted_by_date_complete_df['day_of_week'] = quntity_sum_sorted_by_date_complete_df['transaction_date'].dt.dayofweek\n",
    "print(quntity_sum_sorted_by_date_complete_df.head(3))\n",
    "quntity_sum_sorted_by_date_complete_df.to_csv(\n",
    "    'quntity_sum_sorted_by_date_complete.csv', index=False)"
   ]
  },
  {
   "cell_type": "code",
   "execution_count": 141,
   "metadata": {},
   "outputs": [],
   "source": [
    "# unique_records = df[['store_id', 'product_id']].drop_duplicates().sort_values(['store_id', 'product_id']).reset_index(drop=True)\n",
    "# print(unique_records[:])\n",
    "# unique_records.to_csv('sorted.csv', index=False)"
   ]
  },
  {
   "cell_type": "code",
   "execution_count": 142,
   "metadata": {},
   "outputs": [],
   "source": [
    "# grouped_by_day = df.groupby(['store_id', 'product_id', 'transaction_date']).sum(\n",
    "#     \"transaction_qty\")\n",
    "# grouped_by_day.to_csv('grouped.csv', index=False)"
   ]
  },
  {
   "cell_type": "code",
   "execution_count": 143,
   "metadata": {},
   "outputs": [],
   "source": [
    "# grouped_by_day_2 = df.groupby(['transaction_date', 'store_id', 'product_id' ]).agg({\n",
    "#     \"transaction_qty\": \"sum\",\n",
    "#     \"transaction_id\": list\n",
    "# }).reset_index()\n",
    "\n",
    "# grouped_by_day_2.to_csv('grouped_2.csv', index=False)"
   ]
  },
  {
   "cell_type": "code",
   "execution_count": 144,
   "metadata": {},
   "outputs": [],
   "source": [
    "unique_dates = quntity_sum_sorted_by_date_complete_df[[\n",
    "    'transaction_date']].drop_duplicates().values"
   ]
  },
  {
   "cell_type": "code",
   "execution_count": 155,
   "metadata": {},
   "outputs": [
    {
     "data": {
      "text/plain": [
       "array([['2024-01-01T00:00:00.000000000'],\n",
       "       ['2024-01-02T00:00:00.000000000'],\n",
       "       ['2024-01-03T00:00:00.000000000'],\n",
       "       ['2024-01-04T00:00:00.000000000'],\n",
       "       ['2024-01-05T00:00:00.000000000']], dtype='datetime64[ns]')"
      ]
     },
     "execution_count": 155,
     "metadata": {},
     "output_type": "execute_result"
    }
   ],
   "source": [
    "unique_dates[:5]"
   ]
  },
  {
   "cell_type": "code",
   "execution_count": 152,
   "metadata": {},
   "outputs": [
    {
     "name": "stderr",
     "output_type": "stream",
     "text": [
      "c:\\Users\\Panamgama\\AppData\\Local\\Programs\\Python\\Python312\\Lib\\site-packages\\keras\\src\\layers\\rnn\\rnn.py:204: UserWarning: Do not pass an `input_shape`/`input_dim` argument to a layer. When using Sequential models, prefer using an `Input(shape)` object as the first layer in the model instead.\n",
      "  super().__init__(**kwargs)\n"
     ]
    }
   ],
   "source": [
    "from sklearn.model_selection import train_test_split\n",
    "from keras.models import Sequential\n",
    "from keras.layers import LSTM, Dense\n",
    "import numpy as np\n",
    "import matplotlib.pyplot as plt\n",
    "\n",
    "\n",
    "# Split the dates into 80:20 train and test sets\n",
    "train_dates, test_dates = train_test_split(\n",
    "    unique_dates, test_size=0.2, shuffle=False)\n",
    "\n",
    "# Initialize the LSTM model\n",
    "model = Sequential()\n",
    "model.add(LSTM(50, activation='relu', input_shape=(1, 2)))\n",
    "model.add(Dense(1))\n",
    "model.compile(optimizer='adam', loss='mse')"
   ]
  },
  {
   "cell_type": "code",
   "execution_count": 146,
   "metadata": {},
   "outputs": [
    {
     "data": {
      "text/html": [
       "<pre style=\"white-space:pre;overflow-x:auto;line-height:normal;font-family:Menlo,'DejaVu Sans Mono',consolas,'Courier New',monospace\"><span style=\"font-weight: bold\">Model: \"sequential_1\"</span>\n",
       "</pre>\n"
      ],
      "text/plain": [
       "\u001b[1mModel: \"sequential_1\"\u001b[0m\n"
      ]
     },
     "metadata": {},
     "output_type": "display_data"
    },
    {
     "data": {
      "text/html": [
       "<pre style=\"white-space:pre;overflow-x:auto;line-height:normal;font-family:Menlo,'DejaVu Sans Mono',consolas,'Courier New',monospace\">┏━━━━━━━━━━━━━━━━━━━━━━━━━━━━━━━━━┳━━━━━━━━━━━━━━━━━━━━━━━━┳━━━━━━━━━━━━━━━┓\n",
       "┃<span style=\"font-weight: bold\"> Layer (type)                    </span>┃<span style=\"font-weight: bold\"> Output Shape           </span>┃<span style=\"font-weight: bold\">       Param # </span>┃\n",
       "┡━━━━━━━━━━━━━━━━━━━━━━━━━━━━━━━━━╇━━━━━━━━━━━━━━━━━━━━━━━━╇━━━━━━━━━━━━━━━┩\n",
       "│ lstm_1 (<span style=\"color: #0087ff; text-decoration-color: #0087ff\">LSTM</span>)                   │ (<span style=\"color: #00d7ff; text-decoration-color: #00d7ff\">None</span>, <span style=\"color: #00af00; text-decoration-color: #00af00\">50</span>)             │        <span style=\"color: #00af00; text-decoration-color: #00af00\">10,600</span> │\n",
       "├─────────────────────────────────┼────────────────────────┼───────────────┤\n",
       "│ dense_1 (<span style=\"color: #0087ff; text-decoration-color: #0087ff\">Dense</span>)                 │ (<span style=\"color: #00d7ff; text-decoration-color: #00d7ff\">None</span>, <span style=\"color: #00af00; text-decoration-color: #00af00\">1</span>)              │            <span style=\"color: #00af00; text-decoration-color: #00af00\">51</span> │\n",
       "└─────────────────────────────────┴────────────────────────┴───────────────┘\n",
       "</pre>\n"
      ],
      "text/plain": [
       "┏━━━━━━━━━━━━━━━━━━━━━━━━━━━━━━━━━┳━━━━━━━━━━━━━━━━━━━━━━━━┳━━━━━━━━━━━━━━━┓\n",
       "┃\u001b[1m \u001b[0m\u001b[1mLayer (type)                   \u001b[0m\u001b[1m \u001b[0m┃\u001b[1m \u001b[0m\u001b[1mOutput Shape          \u001b[0m\u001b[1m \u001b[0m┃\u001b[1m \u001b[0m\u001b[1m      Param #\u001b[0m\u001b[1m \u001b[0m┃\n",
       "┡━━━━━━━━━━━━━━━━━━━━━━━━━━━━━━━━━╇━━━━━━━━━━━━━━━━━━━━━━━━╇━━━━━━━━━━━━━━━┩\n",
       "│ lstm_1 (\u001b[38;5;33mLSTM\u001b[0m)                   │ (\u001b[38;5;45mNone\u001b[0m, \u001b[38;5;34m50\u001b[0m)             │        \u001b[38;5;34m10,600\u001b[0m │\n",
       "├─────────────────────────────────┼────────────────────────┼───────────────┤\n",
       "│ dense_1 (\u001b[38;5;33mDense\u001b[0m)                 │ (\u001b[38;5;45mNone\u001b[0m, \u001b[38;5;34m1\u001b[0m)              │            \u001b[38;5;34m51\u001b[0m │\n",
       "└─────────────────────────────────┴────────────────────────┴───────────────┘\n"
      ]
     },
     "metadata": {},
     "output_type": "display_data"
    },
    {
     "data": {
      "text/html": [
       "<pre style=\"white-space:pre;overflow-x:auto;line-height:normal;font-family:Menlo,'DejaVu Sans Mono',consolas,'Courier New',monospace\"><span style=\"font-weight: bold\"> Total params: </span><span style=\"color: #00af00; text-decoration-color: #00af00\">10,651</span> (41.61 KB)\n",
       "</pre>\n"
      ],
      "text/plain": [
       "\u001b[1m Total params: \u001b[0m\u001b[38;5;34m10,651\u001b[0m (41.61 KB)\n"
      ]
     },
     "metadata": {},
     "output_type": "display_data"
    },
    {
     "data": {
      "text/html": [
       "<pre style=\"white-space:pre;overflow-x:auto;line-height:normal;font-family:Menlo,'DejaVu Sans Mono',consolas,'Courier New',monospace\"><span style=\"font-weight: bold\"> Trainable params: </span><span style=\"color: #00af00; text-decoration-color: #00af00\">10,651</span> (41.61 KB)\n",
       "</pre>\n"
      ],
      "text/plain": [
       "\u001b[1m Trainable params: \u001b[0m\u001b[38;5;34m10,651\u001b[0m (41.61 KB)\n"
      ]
     },
     "metadata": {},
     "output_type": "display_data"
    },
    {
     "data": {
      "text/html": [
       "<pre style=\"white-space:pre;overflow-x:auto;line-height:normal;font-family:Menlo,'DejaVu Sans Mono',consolas,'Courier New',monospace\"><span style=\"font-weight: bold\"> Non-trainable params: </span><span style=\"color: #00af00; text-decoration-color: #00af00\">0</span> (0.00 B)\n",
       "</pre>\n"
      ],
      "text/plain": [
       "\u001b[1m Non-trainable params: \u001b[0m\u001b[38;5;34m0\u001b[0m (0.00 B)\n"
      ]
     },
     "metadata": {},
     "output_type": "display_data"
    }
   ],
   "source": [
    "model.summary()"
   ]
  },
  {
   "cell_type": "code",
   "execution_count": null,
   "metadata": {},
   "outputs": [],
   "source": [
    "# for date in train_dates:\n",
    "#     next_day_index = np.where(unique_dates == date)[0][0] + 1\n",
    "#     print( np.where(unique_dates == date))\n",
    "#     print(next_day_index)"
   ]
  },
  {
   "cell_type": "code",
   "execution_count": 163,
   "metadata": {},
   "outputs": [],
   "source": [
    "# Initialize an empty list to store the loss values\n",
    "losses = []\n",
    "\n",
    "# For each date in the training set\n",
    "for date in train_dates:\n",
    "    # Get the \"transaction_qty\" and \"day_of_week\" columns\n",
    "    records = quntity_sum_sorted_by_date_complete_df[(\n",
    "        quntity_sum_sorted_by_date_complete_df['transaction_date'] == date[0])][['transaction_qty', 'day_of_week']]\n",
    "\n",
    "    # Reshape the data into a (n, 2) array\n",
    "    data = records.values.reshape((records.shape[0], 1, 2))\n",
    "\n",
    "    # Get the \"transaction_qty\" of the next day\n",
    "    next_day_index = np.where(unique_dates == date)[0][0] + 1\n",
    "    if next_day_index < len(unique_dates):\n",
    "        next_day_date = unique_dates[next_day_index][0]\n",
    "        next_day_record = quntity_sum_sorted_by_date_complete_df[(\n",
    "            quntity_sum_sorted_by_date_complete_df['transaction_date'] == next_day_date)]['transaction_qty']\n",
    "        target = next_day_record.values\n",
    "\n",
    "        # Feed the data into the LSTM model and get the history\n",
    "        history = model.fit(data, target, epochs=5, verbose=0)\n",
    "        \n",
    "        # Append the loss to the losses list\n",
    "        losses.append(history.history['loss'][0])\n",
    "\n",
    "\n",
    "# Now the model is trained and can be used to predict the \"transaction_qty\" of the next day"
   ]
  },
  {
   "cell_type": "code",
   "execution_count": 164,
   "metadata": {},
   "outputs": [
    {
     "data": {
      "image/png": "[encoded data removed]",
      "text/plain": [
       "<Figure size 640x480 with 1 Axes>"
      ]
     },
     "metadata": {},
     "output_type": "display_data"
    }
   ],
   "source": [
    "# Plot the losses\n",
    "plt.plot(losses)\n",
    "plt.title('Model loss')\n",
    "plt.ylabel('Loss')\n",
    "plt.xlabel('Day')\n",
    "plt.show()"
   ]
  },
  {
   "cell_type": "code",
   "execution_count": 166,
   "metadata": {},
   "outputs": [
    {
     "name": "stdout",
     "output_type": "stream",
     "text": [
      "\u001b[1m9/9\u001b[0m \u001b[32m━━━━━━━━━━━━━━━━━━━━\u001b[0m\u001b[37m\u001b[0m \u001b[1m0s\u001b[0m 15ms/step\n",
      "\u001b[1m9/9\u001b[0m \u001b[32m━━━━━━━━━━━━━━━━━━━━\u001b[0m\u001b[37m\u001b[0m \u001b[1m0s\u001b[0m 0s/step  \n",
      "\u001b[1m9/9\u001b[0m \u001b[32m━━━━━━━━━━━━━━━━━━━━\u001b[0m\u001b[37m\u001b[0m \u001b[1m0s\u001b[0m 2ms/step \n",
      "\u001b[1m9/9\u001b[0m \u001b[32m━━━━━━━━━━━━━━━━━━━━\u001b[0m\u001b[37m\u001b[0m \u001b[1m0s\u001b[0m 472us/step\n",
      "\u001b[1m9/9\u001b[0m \u001b[32m━━━━━━━━━━━━━━━━━━━━\u001b[0m\u001b[37m\u001b[0m \u001b[1m0s\u001b[0m 1ms/step \n",
      "\u001b[1m9/9\u001b[0m \u001b[32m━━━━━━━━━━━━━━━━━━━━\u001b[0m\u001b[37m\u001b[0m \u001b[1m0s\u001b[0m 3ms/step \n",
      "\u001b[1m9/9\u001b[0m \u001b[32m━━━━━━━━━━━━━━━━━━━━\u001b[0m\u001b[37m\u001b[0m \u001b[1m0s\u001b[0m 2ms/step \n",
      "\u001b[1m9/9\u001b[0m \u001b[32m━━━━━━━━━━━━━━━━━━━━\u001b[0m\u001b[37m\u001b[0m \u001b[1m0s\u001b[0m 2ms/step \n",
      "\u001b[1m9/9\u001b[0m \u001b[32m━━━━━━━━━━━━━━━━━━━━\u001b[0m\u001b[37m\u001b[0m \u001b[1m0s\u001b[0m 2ms/step \n",
      "\u001b[1m9/9\u001b[0m \u001b[32m━━━━━━━━━━━━━━━━━━━━\u001b[0m\u001b[37m\u001b[0m \u001b[1m0s\u001b[0m 2ms/step \n",
      "\u001b[1m9/9\u001b[0m \u001b[32m━━━━━━━━━━━━━━━━━━━━\u001b[0m\u001b[37m\u001b[0m \u001b[1m0s\u001b[0m 2ms/step \n",
      "\u001b[1m9/9\u001b[0m \u001b[32m━━━━━━━━━━━━━━━━━━━━\u001b[0m\u001b[37m\u001b[0m \u001b[1m0s\u001b[0m 0s/step  \n",
      "\u001b[1m9/9\u001b[0m \u001b[32m━━━━━━━━━━━━━━━━━━━━\u001b[0m\u001b[37m\u001b[0m \u001b[1m0s\u001b[0m 2ms/step \n",
      "\u001b[1m9/9\u001b[0m \u001b[32m━━━━━━━━━━━━━━━━━━━━\u001b[0m\u001b[37m\u001b[0m \u001b[1m0s\u001b[0m 2ms/step \n",
      "\u001b[1m9/9\u001b[0m \u001b[32m━━━━━━━━━━━━━━━━━━━━\u001b[0m\u001b[37m\u001b[0m \u001b[1m0s\u001b[0m 0s/step  \n",
      "\u001b[1m9/9\u001b[0m \u001b[32m━━━━━━━━━━━━━━━━━━━━\u001b[0m\u001b[37m\u001b[0m \u001b[1m0s\u001b[0m 0s/step  \n",
      "\u001b[1m9/9\u001b[0m \u001b[32m━━━━━━━━━━━━━━━━━━━━\u001b[0m\u001b[37m\u001b[0m \u001b[1m0s\u001b[0m 683us/step\n",
      "\u001b[1m9/9\u001b[0m \u001b[32m━━━━━━━━━━━━━━━━━━━━\u001b[0m\u001b[37m\u001b[0m \u001b[1m0s\u001b[0m 2ms/step \n",
      "\u001b[1m9/9\u001b[0m \u001b[32m━━━━━━━━━━━━━━━━━━━━\u001b[0m\u001b[37m\u001b[0m \u001b[1m0s\u001b[0m 2ms/step\n",
      "\u001b[1m9/9\u001b[0m \u001b[32m━━━━━━━━━━━━━━━━━━━━\u001b[0m\u001b[37m\u001b[0m \u001b[1m0s\u001b[0m 0s/step  \n",
      "\u001b[1m9/9\u001b[0m \u001b[32m━━━━━━━━━━━━━━━━━━━━\u001b[0m\u001b[37m\u001b[0m \u001b[1m0s\u001b[0m 3ms/step \n",
      "\u001b[1m9/9\u001b[0m \u001b[32m━━━━━━━━━━━━━━━━━━━━\u001b[0m\u001b[37m\u001b[0m \u001b[1m0s\u001b[0m 2ms/step \n",
      "\u001b[1m9/9\u001b[0m \u001b[32m━━━━━━━━━━━━━━━━━━━━\u001b[0m\u001b[37m\u001b[0m \u001b[1m0s\u001b[0m 3ms/step \n",
      "\u001b[1m9/9\u001b[0m \u001b[32m━━━━━━━━━━━━━━━━━━━━\u001b[0m\u001b[37m\u001b[0m \u001b[1m0s\u001b[0m 2ms/step \n",
      "\u001b[1m9/9\u001b[0m \u001b[32m━━━━━━━━━━━━━━━━━━━━\u001b[0m\u001b[37m\u001b[0m \u001b[1m0s\u001b[0m 2ms/step \n",
      "\u001b[1m9/9\u001b[0m \u001b[32m━━━━━━━━━━━━━━━━━━━━\u001b[0m\u001b[37m\u001b[0m \u001b[1m0s\u001b[0m 937us/step\n",
      "\u001b[1m9/9\u001b[0m \u001b[32m━━━━━━━━━━━━━━━━━━━━\u001b[0m\u001b[37m\u001b[0m \u001b[1m0s\u001b[0m 1ms/step \n",
      "\u001b[1m9/9\u001b[0m \u001b[32m━━━━━━━━━━━━━━━━━━━━\u001b[0m\u001b[37m\u001b[0m \u001b[1m0s\u001b[0m 2ms/step \n",
      "\u001b[1m9/9\u001b[0m \u001b[32m━━━━━━━━━━━━━━━━━━━━\u001b[0m\u001b[37m\u001b[0m \u001b[1m0s\u001b[0m 0s/step  \n",
      "\u001b[1m9/9\u001b[0m \u001b[32m━━━━━━━━━━━━━━━━━━━━\u001b[0m\u001b[37m\u001b[0m \u001b[1m0s\u001b[0m 2ms/step \n",
      "\u001b[1m9/9\u001b[0m \u001b[32m━━━━━━━━━━━━━━━━━━━━\u001b[0m\u001b[37m\u001b[0m \u001b[1m0s\u001b[0m 361us/step\n"
     ]
    }
   ],
   "source": [
    "from sklearn.metrics import mean_squared_error\n",
    "\n",
    "# Initialize a list to store the predictions\n",
    "predictions = []\n",
    "\n",
    "# For each date in the test set\n",
    "for date in test_dates:\n",
    "    # Get the \"transaction_qty\" and \"day_of_week\" columns\n",
    "    records = quntity_sum_sorted_by_date_complete_df[(\n",
    "        quntity_sum_sorted_by_date_complete_df['transaction_date'] == date[0])][['transaction_qty', 'day_of_week']]\n",
    "\n",
    "    # Reshape the data into a (n, 2) array\n",
    "    data = records.values.reshape((records.shape[0], 1, 2))\n",
    "\n",
    "    # Use the LSTM model to predict the \"transaction_qty\" of the next day\n",
    "    prediction = model.predict(data)\n",
    "\n",
    "    # Append the prediction to the list\n",
    "    predictions.append(prediction)\n",
    "\n",
    "# Convert the list of predictions to a numpy array\n",
    "predictions = np.array(predictions)\n",
    "\n",
    "# Get the actual \"transaction_qty\" values of the next day for the test dates\n",
    "actuals = []\n",
    "for date in test_dates:\n",
    "    next_day_index = np.where(unique_dates == date)[0][0] + 1\n",
    "    if next_day_index < len(unique_dates):\n",
    "        next_day_date = unique_dates[next_day_index][0]\n",
    "        next_day_record = quntity_sum_sorted_by_date_complete_df[(\n",
    "            quntity_sum_sorted_by_date_complete_df['transaction_date'] == next_day_date)]['transaction_qty']\n",
    "        actual = next_day_record.values\n",
    "        actuals.append(actual)\n",
    "actuals = np.array(actuals)"
   ]
  },
  {
   "cell_type": "code",
   "execution_count": 167,
   "metadata": {},
   "outputs": [
    {
     "name": "stdout",
     "output_type": "stream",
     "text": [
      "(30, 261)\n",
      "(30, 261)\n",
      "(30, 261)\n",
      "[ 0.  0.  0.  0.  0.  0.  0.  0.  0.  0.  0.  0.  0.  0.  0.  0.  0.  0.\n",
      "  0.  0.  0. 14. 19. 12. 13. 10. 15. 10. 20.  9. 10. 12. 12.  2.  3. 17.\n",
      " 14.  9. 10. 19.  3. 10. 13. 15. 14. 16. 19.  5.  8. 18. 22. 12. 24. 12.\n",
      " 12.  8.  5. 11. 13.  5. 20.  0.  0.  0.  0.  0.  0.  0.  4.  4.  8.  5.\n",
      "  7.  8.  4.  6.  9.  4. 10.  0.  0.  0.  0.  0.  0.  0.  0.  0.  0.  0.\n",
      "  0.  0.  0.  0.  0.  0.  0.  0.  0.  0.  0.  0.  0.  0.  0.  0.  0.  0.\n",
      " 11.  6.  5. 13. 12.  8.  9.  9.  5. 14. 10.  7. 11.  4.  3. 13.  9.  7.\n",
      "  6.  6. 15.  5. 12.  2.  9. 18.  9.  4.  5. 12.  6.  9. 10. 15.  5. 15.\n",
      "  9. 11. 11. 10.  0.  0.  0.  0.  0.  0.  0.  6.  2.  3.  2.  1.  5.  9.\n",
      "  2.  5.  4.  6.  0.  0.  0.  0.  0.  0.  0.  9.  0.  0.  0.  0.  0.  0.\n",
      "  0.  0.  0.  0.  0.  0.  0.  0.  0.  0.  0.  0.  0.  0.  0.  9. 12.  4.\n",
      "  9. 14. 12. 12.  6. 11. 14. 17. 17. 16. 10. 12. 12.  6.  8. 10.  9.  9.\n",
      " 14. 20.  9. 17.  8.  9. 13. 17.  8. 15. 18. 11. 18. 11.  7.  7. 16.  7.\n",
      " 13.  0.  0.  0.  0.  0.  0.  0.  7.  3.  3.  3.  4.  2.  0.  2.  4.  3.\n",
      "  5.  0.  0.  0.  0.  0.  0.  0. 14.]\n",
      "[ 1.  1.  1.  1.  1.  1.  1.  1.  1.  1.  1.  1.  1.  1.  1.  1.  1.  1.\n",
      "  1.  1.  1. 11. 10.  9. 10. 11. 10. 10. 11. 10. 10. 10. 10. 11. 11. 11.\n",
      " 11. 12. 10. 10.  9. 10. 11. 10.  9. 10. 10. 11. 11.  9. 10. 12. 10. 11.\n",
      " 11. 10. 10. 11. 10. 11. 11.  1.  1.  1.  1.  1.  1.  1.  8.  9.  8.  5.\n",
      "  5.  8.  8.  8.  8.  8.  9.  1.  1.  1.  1.  1.  1.  1.  1.  1.  1.  1.\n",
      "  1.  1.  1.  1.  1.  1.  1.  1.  1.  1.  1.  1.  1.  1.  1.  1.  1.  1.\n",
      " 10. 11. 10. 11. 10. 10.  8. 10. 10.  8. 10. 11. 11.  8. 10. 10. 11. 11.\n",
      "  9. 10.  5. 10. 10. 11.  8. 11.  5. 10. 10. 10. 10. 10. 11.  8. 11. 10.\n",
      "  5. 10. 11. 11.  1.  1.  1.  1.  1.  1.  1.  9.  8. 10.  9.  6.  6.  8.\n",
      "  9.  9.  8.  5.  1.  1.  1.  1.  1.  1.  1.  8.  1.  1.  1.  1.  1.  1.\n",
      "  1.  1.  1.  1.  1.  1.  1.  1.  1.  1.  1.  1.  1.  1.  1. 11. 10. 11.\n",
      "  9. 10. 10. 10. 10. 11.  8. 11. 10. 10.  9.  9.  9. 10. 11. 11.  9. 11.\n",
      " 10. 10. 10. 10. 11. 10. 11. 10. 10.  8. 11. 11. 10. 10. 10. 10. 10. 11.\n",
      " 10.  1.  1.  1.  1.  1.  1.  1.  6.  5.  9.  2. 10. 10.  8.  8.  8.  8.\n",
      "  1.  1.  1.  1.  1.  1.  1.  1. 10.]\n"
     ]
    }
   ],
   "source": [
    "print(actuals.shape)\n",
    "print(predictions.reshape(31, 261)[:30].shape)\n",
    "predictions_reshaped = np.round(predictions.squeeze())[:30]\n",
    "print(predictions_reshaped.shape)\n",
    "# print(predictions_reshaped[0])\n",
    "print(actuals[0])\n",
    "print(predictions_reshaped[0])"
   ]
  },
  {
   "cell_type": "code",
   "execution_count": 168,
   "metadata": {},
   "outputs": [
    {
     "data": {
      "image/png": "[encoded data removed]",
      "text/plain": [
       "<Figure size 640x480 with 1 Axes>"
      ]
     },
     "metadata": {},
     "output_type": "display_data"
    }
   ],
   "source": [
    "# Calculate the MSE for each prediction\n",
    "test_losses = [mean_squared_error(y_true, y_pred)\n",
    "               for y_true, y_pred in zip(actuals, predictions)]\n",
    "\n",
    "# Plot the test losses\n",
    "plt.plot(test_losses)\n",
    "plt.title('Test loss')\n",
    "plt.ylabel('Loss')\n",
    "plt.xlabel('Day')\n",
    "plt.show()"
   ]
  },
  {
   "cell_type": "code",
   "execution_count": 151,
   "metadata": {},
   "outputs": [],
   "source": [
    "# for date in unique_dates:\n",
    "#     records = quntity_sum_sorted_by_date_complete_df[(quntity_sum_sorted_by_date_complete_df['transaction_date'] == date[0])]\n",
    "\n",
    "#     print(records)\n",
    "#     records.to_csv('record_1.csv', index=False)\n",
    "    # insert data to model here\n",
    "    # break\n",
    "\n",
    "\n",
    "\n",
    "    # print(store_id, product_id)\n",
    "\n",
    "\n",
    "\n",
    "    # print(records.loc[:, ['transaction_qty']])\n",
    "\n",
    "\n",
    "\n",
    "    # Now 'records' is a DataFrame containing all records for the current 'store_id', 'product_id' pair\n",
    "\n",
    "\n",
    "\n",
    "    # You can now convert 'records' into a suitable format and feed it into your RNN"
   ]
  }
 ],
 "metadata": {
  "kernelspec": {
   "display_name": "Python 3",
   "language": "python",
   "name": "python3"
  },
  "language_info": {
   "codemirror_mode": {
    "name": "ipython",
    "version": 3
   },
   "file_extension": ".py",
   "mimetype": "text/x-python",
   "name": "python",
   "nbconvert_exporter": "python",
   "pygments_lexer": "ipython3",
   "version": "3.12.1"
  }
 },
 "nbformat": 4,
 "nbformat_minor": 2
}
